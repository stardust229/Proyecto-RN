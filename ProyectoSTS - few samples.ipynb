{
 "cells": [
  {
   "cell_type": "markdown",
   "metadata": {},
   "source": [
    "# Proyecto STS"
   ]
  },
  {
   "cell_type": "code",
   "execution_count": 1,
   "metadata": {
    "tags": []
   },
   "outputs": [],
   "source": [
    "from __future__ import unicode_literals, print_function, division\n",
    "from io import open\n",
    "import glob\n",
    "import os\n",
    "import unicodedata\n",
    "import string\n",
    "import torch\n",
    "import torch.nn as nn"
   ]
  },
  {
   "cell_type": "code",
   "execution_count": 2,
   "metadata": {
    "tags": []
   },
   "outputs": [],
   "source": [
    "from torch.utils.data import Dataset\n",
    "from torch.utils.data import DataLoader"
   ]
  },
  {
   "cell_type": "code",
   "execution_count": 3,
   "metadata": {
    "tags": []
   },
   "outputs": [],
   "source": [
    "import torch.optim as optim\n",
    "from torch.optim.lr_scheduler import LambdaLR"
   ]
  },
  {
   "cell_type": "code",
   "execution_count": 4,
   "metadata": {
    "tags": []
   },
   "outputs": [],
   "source": [
    "import numpy as np\n",
    "import pandas as pd\n",
    "from gensim.models import KeyedVectors\n",
    "from nltk.corpus import stopwords"
   ]
  },
  {
   "cell_type": "code",
   "execution_count": 5,
   "metadata": {
    "tags": []
   },
   "outputs": [],
   "source": [
    "import re\n",
    "from sklearn.model_selection import train_test_split"
   ]
  },
  {
   "cell_type": "code",
   "execution_count": 6,
   "metadata": {
    "tags": []
   },
   "outputs": [
    {
     "name": "stderr",
     "output_type": "stream",
     "text": [
      "[nltk_data] Downloading package stopwords to C:\\Users\\usuario.DESKTOP-\n",
      "[nltk_data]     GDR7TES\\AppData\\Roaming\\nltk_data...\n",
      "[nltk_data]   Package stopwords is already up-to-date!\n"
     ]
    },
    {
     "data": {
      "text/plain": [
       "True"
      ]
     },
     "execution_count": 6,
     "metadata": {},
     "output_type": "execute_result"
    }
   ],
   "source": [
    "import nltk\n",
    "nltk.download('stopwords')"
   ]
  },
  {
   "cell_type": "code",
   "execution_count": 7,
   "metadata": {
    "tags": []
   },
   "outputs": [
    {
     "data": {
      "text/plain": [
       "<torch._C.Generator at 0x169111457f0>"
      ]
     },
     "execution_count": 7,
     "metadata": {},
     "output_type": "execute_result"
    }
   ],
   "source": [
    "torch.manual_seed(777) # seed para reproductibilidad"
   ]
  },
  {
   "cell_type": "markdown",
   "metadata": {},
   "source": [
    "**Lectura de datos.** Dado que en este caso nuestros datos vienen en texto, necesitaremos realizar un \n",
    "proceso diferente para obtener los datos."
   ]
  },
  {
   "cell_type": "code",
   "execution_count": 8,
   "metadata": {
    "tags": []
   },
   "outputs": [
    {
     "data": {
      "text/html": [
       "<div>\n",
       "<style scoped>\n",
       "    .dataframe tbody tr th:only-of-type {\n",
       "        vertical-align: middle;\n",
       "    }\n",
       "\n",
       "    .dataframe tbody tr th {\n",
       "        vertical-align: top;\n",
       "    }\n",
       "\n",
       "    .dataframe thead th {\n",
       "        text-align: right;\n",
       "    }\n",
       "</style>\n",
       "<table border=\"1\" class=\"dataframe\">\n",
       "  <thead>\n",
       "    <tr style=\"text-align: right;\">\n",
       "      <th></th>\n",
       "      <th>id</th>\n",
       "      <th>qid1</th>\n",
       "      <th>qid2</th>\n",
       "      <th>question1</th>\n",
       "      <th>question2</th>\n",
       "      <th>is_duplicate</th>\n",
       "    </tr>\n",
       "  </thead>\n",
       "  <tbody>\n",
       "    <tr>\n",
       "      <th>0</th>\n",
       "      <td>0</td>\n",
       "      <td>1</td>\n",
       "      <td>2</td>\n",
       "      <td>What is the step by step guide to invest in sh...</td>\n",
       "      <td>What is the step by step guide to invest in sh...</td>\n",
       "      <td>0</td>\n",
       "    </tr>\n",
       "    <tr>\n",
       "      <th>1</th>\n",
       "      <td>1</td>\n",
       "      <td>3</td>\n",
       "      <td>4</td>\n",
       "      <td>What is the story of Kohinoor (Koh-i-Noor) Dia...</td>\n",
       "      <td>What would happen if the Indian government sto...</td>\n",
       "      <td>0</td>\n",
       "    </tr>\n",
       "    <tr>\n",
       "      <th>2</th>\n",
       "      <td>2</td>\n",
       "      <td>5</td>\n",
       "      <td>6</td>\n",
       "      <td>How can I increase the speed of my internet co...</td>\n",
       "      <td>How can Internet speed be increased by hacking...</td>\n",
       "      <td>0</td>\n",
       "    </tr>\n",
       "    <tr>\n",
       "      <th>3</th>\n",
       "      <td>3</td>\n",
       "      <td>7</td>\n",
       "      <td>8</td>\n",
       "      <td>Why am I mentally very lonely? How can I solve...</td>\n",
       "      <td>Find the remainder when [math]23^{24}[/math] i...</td>\n",
       "      <td>0</td>\n",
       "    </tr>\n",
       "    <tr>\n",
       "      <th>4</th>\n",
       "      <td>4</td>\n",
       "      <td>9</td>\n",
       "      <td>10</td>\n",
       "      <td>Which one dissolve in water quikly sugar, salt...</td>\n",
       "      <td>Which fish would survive in salt water?</td>\n",
       "      <td>0</td>\n",
       "    </tr>\n",
       "  </tbody>\n",
       "</table>\n",
       "</div>"
      ],
      "text/plain": [
       "   id  qid1  qid2                                          question1  \\\n",
       "0   0     1     2  What is the step by step guide to invest in sh...   \n",
       "1   1     3     4  What is the story of Kohinoor (Koh-i-Noor) Dia...   \n",
       "2   2     5     6  How can I increase the speed of my internet co...   \n",
       "3   3     7     8  Why am I mentally very lonely? How can I solve...   \n",
       "4   4     9    10  Which one dissolve in water quikly sugar, salt...   \n",
       "\n",
       "                                           question2  is_duplicate  \n",
       "0  What is the step by step guide to invest in sh...             0  \n",
       "1  What would happen if the Indian government sto...             0  \n",
       "2  How can Internet speed be increased by hacking...             0  \n",
       "3  Find the remainder when [math]23^{24}[/math] i...             0  \n",
       "4            Which fish would survive in salt water?             0  "
      ]
     },
     "execution_count": 8,
     "metadata": {},
     "output_type": "execute_result"
    }
   ],
   "source": [
    "train_df= pd.read_csv('train.csv')\n",
    "train_df.head()"
   ]
  },
  {
   "cell_type": "code",
   "execution_count": 9,
   "metadata": {
    "tags": []
   },
   "outputs": [
    {
     "data": {
      "text/plain": [
       "'Method to find separation of slits using fresnel biprism?'"
      ]
     },
     "execution_count": 9,
     "metadata": {},
     "output_type": "execute_result"
    }
   ],
   "source": [
    "train_df['question1'].iloc[10]"
   ]
  },
  {
   "cell_type": "markdown",
   "metadata": {
    "tags": []
   },
   "source": [
    "## Preprocesamiento"
   ]
  },
  {
   "cell_type": "markdown",
   "metadata": {
    "tags": []
   },
   "source": [
    "### Separación de las preguntas en tokens"
   ]
  },
  {
   "cell_type": "markdown",
   "metadata": {},
   "source": [
    "La siguiente función es parte del preprocesamiento. Vamos a convertir cada oración en una lista de palabras, y vamos a homogenizar contracciones comunes de palabras en ingles (ya que las preguntas están en inglés)."
   ]
  },
  {
   "cell_type": "code",
   "execution_count": 10,
   "metadata": {
    "tags": []
   },
   "outputs": [],
   "source": [
    "stops = set(stopwords.words('english'))\n",
    "\n",
    "def text_to_word_list(text):\n",
    "    ''' Pre process and convert texts to a list of words '''\n",
    "    text = str(text)\n",
    "    text = text.lower()\n",
    "\n",
    "    # Clean the text\n",
    "    text = re.sub(r\"[^A-Za-z0-9^,!.\\/'+-=]\", \" \", text)\n",
    "    text = re.sub(r\"what's\", \"what is \", text)\n",
    "    text = re.sub(r\"\\'s\", \" \", text)\n",
    "    text = re.sub(r\"\\'ve\", \" have \", text)\n",
    "    text = re.sub(r\"can't\", \"cannot \", text)\n",
    "    text = re.sub(r\"n't\", \" not \", text)\n",
    "    text = re.sub(r\"i'm\", \"i am \", text)\n",
    "    text = re.sub(r\"\\'re\", \" are \", text)\n",
    "    text = re.sub(r\"\\'d\", \" would \", text)\n",
    "    text = re.sub(r\"\\'ll\", \" will \", text)\n",
    "    text = re.sub(r\",\", \" \", text)\n",
    "    text = re.sub(r\"\\.\", \" \", text)\n",
    "    text = re.sub(r\"!\", \" ! \", text)\n",
    "    text = re.sub(r\"\\/\", \" \", text)\n",
    "    text = re.sub(r\"\\^\", \" ^ \", text)\n",
    "    text = re.sub(r\"\\+\", \" + \", text)\n",
    "    text = re.sub(r\"\\-\", \" - \", text)\n",
    "    text = re.sub(r\"\\=\", \" = \", text)\n",
    "    text = re.sub(r\"'\", \" \", text)\n",
    "    text = re.sub(r\"(\\d+)(k)\", r\"\\g<1>000\", text)\n",
    "    text = re.sub(r\":\", \" : \", text)\n",
    "    text = re.sub(r\" e g \", \" eg \", text)\n",
    "    text = re.sub(r\" b g \", \" bg \", text)\n",
    "    text = re.sub(r\" u s \", \" american \", text)\n",
    "    text = re.sub(r\"\\0s\", \"0\", text)\n",
    "    text = re.sub(r\" 9 11 \", \"911\", text)\n",
    "    text = re.sub(r\"e - mail\", \"email\", text)\n",
    "    text = re.sub(r\"j k\", \"jk\", text)\n",
    "    text = re.sub(r\"\\s{2,}\", \" \", text)\n",
    "\n",
    "    text = text.split()\n",
    "\n",
    "    return text"
   ]
  },
  {
   "cell_type": "markdown",
   "metadata": {},
   "source": [
    "Tenemos que hacer lo siguiente: Para cada dataset, agregar las columnas `question1_vec` y `question2_vec`. Estas columnas contienen la respresentación de las preguntas como listas de embeddings, donde cada embedding (vector) corresponde a una de las palabras (tokens) de la pregunta.\n",
    "\n",
    "Para hacer esto, primero pasaremos cada pregunta por la función `text_to_word_list`, obteniendo la lista de tokens que le corresponden. En esta función se homogenizan algunas contracciones comunes.\n",
    "\n",
    "El resultado de pasar nuestar pregunta por `text_to_word_list` lo agregaremos al dataframe como una columna `question1_tokens` o `question2_tokens`.\n",
    "\n",
    "Luego, por cada lista de tokens, usaremos un modelo pre-entrenado de Word2Vec para asignarle un vector a cada palabra de la lista. Estas listas de vectores las guardaremos en las columnas `question1_vec` y `question2_vec`.\n",
    "\n",
    "Estas listas de vectores serán la entrada de nuestro modelo más adelante."
   ]
  },
  {
   "cell_type": "code",
   "execution_count": 11,
   "metadata": {
    "tags": []
   },
   "outputs": [],
   "source": [
    "# training dataset:\n",
    "train_question1_tokens = [text_to_word_list(q) for q in train_df['question1']]\n",
    "train_df['question1_tokens'] = train_question1_tokens\n",
    "\n",
    "train_question2_tokens = [text_to_word_list(q) for q in train_df['question2']]\n",
    "train_df['question2_tokens'] = train_question2_tokens"
   ]
  },
  {
   "cell_type": "markdown",
   "metadata": {},
   "source": [
    "Ahora nuestro dataframe de entrenamiento tiene las columas extra:"
   ]
  },
  {
   "cell_type": "code",
   "execution_count": 12,
   "metadata": {
    "tags": []
   },
   "outputs": [
    {
     "data": {
      "text/html": [
       "<div>\n",
       "<style scoped>\n",
       "    .dataframe tbody tr th:only-of-type {\n",
       "        vertical-align: middle;\n",
       "    }\n",
       "\n",
       "    .dataframe tbody tr th {\n",
       "        vertical-align: top;\n",
       "    }\n",
       "\n",
       "    .dataframe thead th {\n",
       "        text-align: right;\n",
       "    }\n",
       "</style>\n",
       "<table border=\"1\" class=\"dataframe\">\n",
       "  <thead>\n",
       "    <tr style=\"text-align: right;\">\n",
       "      <th></th>\n",
       "      <th>question1</th>\n",
       "      <th>question1_tokens</th>\n",
       "      <th>question2</th>\n",
       "      <th>question2_tokens</th>\n",
       "    </tr>\n",
       "  </thead>\n",
       "  <tbody>\n",
       "    <tr>\n",
       "      <th>0</th>\n",
       "      <td>What is the step by step guide to invest in sh...</td>\n",
       "      <td>[what, is, the, step, by, step, guide, to, inv...</td>\n",
       "      <td>What is the step by step guide to invest in sh...</td>\n",
       "      <td>[what, is, the, step, by, step, guide, to, inv...</td>\n",
       "    </tr>\n",
       "    <tr>\n",
       "      <th>1</th>\n",
       "      <td>What is the story of Kohinoor (Koh-i-Noor) Dia...</td>\n",
       "      <td>[what, is, the, story, of, kohinoor, koh, -, i...</td>\n",
       "      <td>What would happen if the Indian government sto...</td>\n",
       "      <td>[what, would, happen, if, the, indian, governm...</td>\n",
       "    </tr>\n",
       "    <tr>\n",
       "      <th>2</th>\n",
       "      <td>How can I increase the speed of my internet co...</td>\n",
       "      <td>[how, can, i, increase, the, speed, of, my, in...</td>\n",
       "      <td>How can Internet speed be increased by hacking...</td>\n",
       "      <td>[how, can, internet, speed, be, increased, by,...</td>\n",
       "    </tr>\n",
       "    <tr>\n",
       "      <th>3</th>\n",
       "      <td>Why am I mentally very lonely? How can I solve...</td>\n",
       "      <td>[why, am, i, mentally, very, lonely, how, can,...</td>\n",
       "      <td>Find the remainder when [math]23^{24}[/math] i...</td>\n",
       "      <td>[find, the, remainder, when, math, 23, ^, 24, ...</td>\n",
       "    </tr>\n",
       "    <tr>\n",
       "      <th>4</th>\n",
       "      <td>Which one dissolve in water quikly sugar, salt...</td>\n",
       "      <td>[which, one, dissolve, in, water, quikly, suga...</td>\n",
       "      <td>Which fish would survive in salt water?</td>\n",
       "      <td>[which, fish, would, survive, in, salt, water]</td>\n",
       "    </tr>\n",
       "  </tbody>\n",
       "</table>\n",
       "</div>"
      ],
      "text/plain": [
       "                                           question1  \\\n",
       "0  What is the step by step guide to invest in sh...   \n",
       "1  What is the story of Kohinoor (Koh-i-Noor) Dia...   \n",
       "2  How can I increase the speed of my internet co...   \n",
       "3  Why am I mentally very lonely? How can I solve...   \n",
       "4  Which one dissolve in water quikly sugar, salt...   \n",
       "\n",
       "                                    question1_tokens  \\\n",
       "0  [what, is, the, step, by, step, guide, to, inv...   \n",
       "1  [what, is, the, story, of, kohinoor, koh, -, i...   \n",
       "2  [how, can, i, increase, the, speed, of, my, in...   \n",
       "3  [why, am, i, mentally, very, lonely, how, can,...   \n",
       "4  [which, one, dissolve, in, water, quikly, suga...   \n",
       "\n",
       "                                           question2  \\\n",
       "0  What is the step by step guide to invest in sh...   \n",
       "1  What would happen if the Indian government sto...   \n",
       "2  How can Internet speed be increased by hacking...   \n",
       "3  Find the remainder when [math]23^{24}[/math] i...   \n",
       "4            Which fish would survive in salt water?   \n",
       "\n",
       "                                    question2_tokens  \n",
       "0  [what, is, the, step, by, step, guide, to, inv...  \n",
       "1  [what, would, happen, if, the, indian, governm...  \n",
       "2  [how, can, internet, speed, be, increased, by,...  \n",
       "3  [find, the, remainder, when, math, 23, ^, 24, ...  \n",
       "4     [which, fish, would, survive, in, salt, water]  "
      ]
     },
     "execution_count": 12,
     "metadata": {},
     "output_type": "execute_result"
    }
   ],
   "source": [
    "train_df[['question1', 'question1_tokens', 'question2', 'question2_tokens']].head()"
   ]
  },
  {
   "cell_type": "markdown",
   "metadata": {},
   "source": [
    "Usamos solo las filas que **no** tengan más de 30 tokens en sus preguntas. Esto es sólo para que el entrenamiento no sea tan pesado."
   ]
  },
  {
   "cell_type": "code",
   "execution_count": 13,
   "metadata": {
    "tags": []
   },
   "outputs": [
    {
     "data": {
      "text/plain": [
       "300185"
      ]
     },
     "execution_count": 13,
     "metadata": {},
     "output_type": "execute_result"
    }
   ],
   "source": [
    "# Función para checar si la longitud de question1_tokens y question2_tokens es menor o igual a 30\n",
    "def check_length(row):\n",
    "    if len(row['question1_tokens']) > 15 or len(row['question2_tokens']) > 15:\n",
    "        return False\n",
    "    return True\n",
    "\n",
    "# Aplicar la función check_length para filtrar el dataframe\n",
    "train_df = train_df[train_df.apply(lambda row: check_length(row), axis=1)]\n",
    "\n",
    "# Vemos cuántos ejemplares quedaron:\n",
    "len(train_df)"
   ]
  },
  {
   "cell_type": "code",
   "execution_count": 14,
   "metadata": {
    "tags": []
   },
   "outputs": [
    {
     "data": {
      "text/plain": [
       "'Do you think of mathematics as art or science?'"
      ]
     },
     "execution_count": 14,
     "metadata": {},
     "output_type": "execute_result"
    }
   ],
   "source": [
    "train_df['question1'].iloc[777]"
   ]
  },
  {
   "cell_type": "code",
   "execution_count": 15,
   "metadata": {
    "tags": []
   },
   "outputs": [],
   "source": [
    "# Usamos menos ejemplares de los que hay disponibles porque mi computadora no es muy rápida\n",
    "train_df = train_df.head(100000)"
   ]
  },
  {
   "cell_type": "markdown",
   "metadata": {
    "tags": []
   },
   "source": [
    "### Agregar embeddings de Word2Vec"
   ]
  },
  {
   "cell_type": "markdown",
   "metadata": {},
   "source": [
    "Ahora tranformamos las listas de tokens a arreglos de numpy con su representación en vectores. Agregamos esas columnas al dataframe.\n",
    "\n",
    "Usaremos un modelo pre-entrenado de Word2Vec."
   ]
  },
  {
   "cell_type": "code",
   "execution_count": 16,
   "metadata": {
    "tags": []
   },
   "outputs": [],
   "source": [
    "from gensim.models import KeyedVectors\n",
    "\n",
    "# Cargamos el modelo pre-entrenado de word2vec\n",
    "model_file = \"w2v_model/google_news_word2vec.model\"\n",
    "word2vec = KeyedVectors.load(model_file)"
   ]
  },
  {
   "cell_type": "code",
   "execution_count": 17,
   "metadata": {
    "tags": []
   },
   "outputs": [],
   "source": [
    "def get_vector(token):\n",
    "    try:\n",
    "        return word2vec[token]\n",
    "    except KeyError:\n",
    "        return None\n",
    "\n",
    "def tokens_to_vectors(token_list):\n",
    "    # si la palabra no existe en el vocabulario de word2vec, sólo la saltamos\n",
    "    vector_list = [vector for token in token_list if (vector := get_vector(token)) is not None]\n",
    "    if len(vector_list) > 0:\n",
    "        return vector_list\n",
    "    return None"
   ]
  },
  {
   "cell_type": "code",
   "execution_count": 18,
   "metadata": {
    "tags": []
   },
   "outputs": [],
   "source": [
    "# training dataset:\n",
    "train_question1_vectors = [tokens_to_vectors(tk) for tk in train_df['question1_tokens']]\n",
    "train_df['question1_vectors'] = train_question1_vectors\n",
    "\n",
    "train_question2_vectors = [tokens_to_vectors(tk) for tk in train_df['question2_tokens']]\n",
    "train_df['question2_vectors'] = train_question2_vectors"
   ]
  },
  {
   "cell_type": "code",
   "execution_count": 19,
   "metadata": {
    "tags": []
   },
   "outputs": [
    {
     "name": "stdout",
     "output_type": "stream",
     "text": [
      "Before dropping rows with missing values: 100000\n",
      "After dropping rows with missing values: 99988\n"
     ]
    }
   ],
   "source": [
    "# Ahora eliminaremos las filas con algún valor None\n",
    "print('Before dropping rows with missing values:', len(train_df['question1_vectors']))\n",
    "train_df.dropna(inplace=True)\n",
    "print('After dropping rows with missing values:', len(train_df['question1_vectors']))"
   ]
  },
  {
   "cell_type": "code",
   "execution_count": 20,
   "metadata": {
    "tags": []
   },
   "outputs": [
    {
     "data": {
      "text/html": [
       "<div>\n",
       "<style scoped>\n",
       "    .dataframe tbody tr th:only-of-type {\n",
       "        vertical-align: middle;\n",
       "    }\n",
       "\n",
       "    .dataframe tbody tr th {\n",
       "        vertical-align: top;\n",
       "    }\n",
       "\n",
       "    .dataframe thead th {\n",
       "        text-align: right;\n",
       "    }\n",
       "</style>\n",
       "<table border=\"1\" class=\"dataframe\">\n",
       "  <thead>\n",
       "    <tr style=\"text-align: right;\">\n",
       "      <th></th>\n",
       "      <th>question1</th>\n",
       "      <th>question1_vectors</th>\n",
       "      <th>question2</th>\n",
       "      <th>question2_vectors</th>\n",
       "    </tr>\n",
       "  </thead>\n",
       "  <tbody>\n",
       "    <tr>\n",
       "      <th>0</th>\n",
       "      <td>What is the step by step guide to invest in sh...</td>\n",
       "      <td>[[0.13964844, -0.006164551, 0.21484375, 0.0727...</td>\n",
       "      <td>What is the step by step guide to invest in sh...</td>\n",
       "      <td>[[0.13964844, -0.006164551, 0.21484375, 0.0727...</td>\n",
       "    </tr>\n",
       "    <tr>\n",
       "      <th>2</th>\n",
       "      <td>How can I increase the speed of my internet co...</td>\n",
       "      <td>[[0.26953125, 0.0859375, 0.09423828, 0.0410156...</td>\n",
       "      <td>How can Internet speed be increased by hacking...</td>\n",
       "      <td>[[0.26953125, 0.0859375, 0.09423828, 0.0410156...</td>\n",
       "    </tr>\n",
       "    <tr>\n",
       "      <th>3</th>\n",
       "      <td>Why am I mentally very lonely? How can I solve...</td>\n",
       "      <td>[[0.15136719, 0.012451172, 0.21777344, 0.03039...</td>\n",
       "      <td>Find the remainder when [math]23^{24}[/math] i...</td>\n",
       "      <td>[[-0.006958008, -0.043701172, -0.16796875, 0.1...</td>\n",
       "    </tr>\n",
       "    <tr>\n",
       "      <th>4</th>\n",
       "      <td>Which one dissolve in water quikly sugar, salt...</td>\n",
       "      <td>[[-0.06933594, 0.044677734, 0.091796875, 0.052...</td>\n",
       "      <td>Which fish would survive in salt water?</td>\n",
       "      <td>[[-0.06933594, 0.044677734, 0.091796875, 0.052...</td>\n",
       "    </tr>\n",
       "    <tr>\n",
       "      <th>6</th>\n",
       "      <td>Should I buy tiago?</td>\n",
       "      <td>[[-0.034423828, 0.041748047, 0.24902344, 0.228...</td>\n",
       "      <td>What keeps childern active and far from phone ...</td>\n",
       "      <td>[[0.13964844, -0.006164551, 0.21484375, 0.0727...</td>\n",
       "    </tr>\n",
       "  </tbody>\n",
       "</table>\n",
       "</div>"
      ],
      "text/plain": [
       "                                           question1  \\\n",
       "0  What is the step by step guide to invest in sh...   \n",
       "2  How can I increase the speed of my internet co...   \n",
       "3  Why am I mentally very lonely? How can I solve...   \n",
       "4  Which one dissolve in water quikly sugar, salt...   \n",
       "6                                Should I buy tiago?   \n",
       "\n",
       "                                   question1_vectors  \\\n",
       "0  [[0.13964844, -0.006164551, 0.21484375, 0.0727...   \n",
       "2  [[0.26953125, 0.0859375, 0.09423828, 0.0410156...   \n",
       "3  [[0.15136719, 0.012451172, 0.21777344, 0.03039...   \n",
       "4  [[-0.06933594, 0.044677734, 0.091796875, 0.052...   \n",
       "6  [[-0.034423828, 0.041748047, 0.24902344, 0.228...   \n",
       "\n",
       "                                           question2  \\\n",
       "0  What is the step by step guide to invest in sh...   \n",
       "2  How can Internet speed be increased by hacking...   \n",
       "3  Find the remainder when [math]23^{24}[/math] i...   \n",
       "4            Which fish would survive in salt water?   \n",
       "6  What keeps childern active and far from phone ...   \n",
       "\n",
       "                                   question2_vectors  \n",
       "0  [[0.13964844, -0.006164551, 0.21484375, 0.0727...  \n",
       "2  [[0.26953125, 0.0859375, 0.09423828, 0.0410156...  \n",
       "3  [[-0.006958008, -0.043701172, -0.16796875, 0.1...  \n",
       "4  [[-0.06933594, 0.044677734, 0.091796875, 0.052...  \n",
       "6  [[0.13964844, -0.006164551, 0.21484375, 0.0727...  "
      ]
     },
     "execution_count": 20,
     "metadata": {},
     "output_type": "execute_result"
    }
   ],
   "source": [
    "train_df[['question1', 'question1_vectors', 'question2', 'question2_vectors']].head()"
   ]
  },
  {
   "cell_type": "code",
   "execution_count": 21,
   "metadata": {
    "tags": []
   },
   "outputs": [
    {
     "data": {
      "text/html": [
       "<div>\n",
       "<style scoped>\n",
       "    .dataframe tbody tr th:only-of-type {\n",
       "        vertical-align: middle;\n",
       "    }\n",
       "\n",
       "    .dataframe tbody tr th {\n",
       "        vertical-align: top;\n",
       "    }\n",
       "\n",
       "    .dataframe thead th {\n",
       "        text-align: right;\n",
       "    }\n",
       "</style>\n",
       "<table border=\"1\" class=\"dataframe\">\n",
       "  <thead>\n",
       "    <tr style=\"text-align: right;\">\n",
       "      <th></th>\n",
       "      <th>id</th>\n",
       "      <th>qid1</th>\n",
       "      <th>qid2</th>\n",
       "      <th>question1</th>\n",
       "      <th>question2</th>\n",
       "      <th>is_duplicate</th>\n",
       "      <th>question1_tokens</th>\n",
       "      <th>question2_tokens</th>\n",
       "      <th>question1_vectors</th>\n",
       "      <th>question2_vectors</th>\n",
       "    </tr>\n",
       "  </thead>\n",
       "  <tbody>\n",
       "    <tr>\n",
       "      <th>0</th>\n",
       "      <td>0</td>\n",
       "      <td>1</td>\n",
       "      <td>2</td>\n",
       "      <td>What is the step by step guide to invest in sh...</td>\n",
       "      <td>What is the step by step guide to invest in sh...</td>\n",
       "      <td>0</td>\n",
       "      <td>[what, is, the, step, by, step, guide, to, inv...</td>\n",
       "      <td>[what, is, the, step, by, step, guide, to, inv...</td>\n",
       "      <td>[[0.13964844, -0.006164551, 0.21484375, 0.0727...</td>\n",
       "      <td>[[0.13964844, -0.006164551, 0.21484375, 0.0727...</td>\n",
       "    </tr>\n",
       "    <tr>\n",
       "      <th>2</th>\n",
       "      <td>2</td>\n",
       "      <td>5</td>\n",
       "      <td>6</td>\n",
       "      <td>How can I increase the speed of my internet co...</td>\n",
       "      <td>How can Internet speed be increased by hacking...</td>\n",
       "      <td>0</td>\n",
       "      <td>[how, can, i, increase, the, speed, of, my, in...</td>\n",
       "      <td>[how, can, internet, speed, be, increased, by,...</td>\n",
       "      <td>[[0.26953125, 0.0859375, 0.09423828, 0.0410156...</td>\n",
       "      <td>[[0.26953125, 0.0859375, 0.09423828, 0.0410156...</td>\n",
       "    </tr>\n",
       "    <tr>\n",
       "      <th>3</th>\n",
       "      <td>3</td>\n",
       "      <td>7</td>\n",
       "      <td>8</td>\n",
       "      <td>Why am I mentally very lonely? How can I solve...</td>\n",
       "      <td>Find the remainder when [math]23^{24}[/math] i...</td>\n",
       "      <td>0</td>\n",
       "      <td>[why, am, i, mentally, very, lonely, how, can,...</td>\n",
       "      <td>[find, the, remainder, when, math, 23, ^, 24, ...</td>\n",
       "      <td>[[0.15136719, 0.012451172, 0.21777344, 0.03039...</td>\n",
       "      <td>[[-0.006958008, -0.043701172, -0.16796875, 0.1...</td>\n",
       "    </tr>\n",
       "    <tr>\n",
       "      <th>4</th>\n",
       "      <td>4</td>\n",
       "      <td>9</td>\n",
       "      <td>10</td>\n",
       "      <td>Which one dissolve in water quikly sugar, salt...</td>\n",
       "      <td>Which fish would survive in salt water?</td>\n",
       "      <td>0</td>\n",
       "      <td>[which, one, dissolve, in, water, quikly, suga...</td>\n",
       "      <td>[which, fish, would, survive, in, salt, water]</td>\n",
       "      <td>[[-0.06933594, 0.044677734, 0.091796875, 0.052...</td>\n",
       "      <td>[[-0.06933594, 0.044677734, 0.091796875, 0.052...</td>\n",
       "    </tr>\n",
       "    <tr>\n",
       "      <th>6</th>\n",
       "      <td>6</td>\n",
       "      <td>13</td>\n",
       "      <td>14</td>\n",
       "      <td>Should I buy tiago?</td>\n",
       "      <td>What keeps childern active and far from phone ...</td>\n",
       "      <td>0</td>\n",
       "      <td>[should, i, buy, tiago]</td>\n",
       "      <td>[what, keeps, childern, active, and, far, from...</td>\n",
       "      <td>[[-0.034423828, 0.041748047, 0.24902344, 0.228...</td>\n",
       "      <td>[[0.13964844, -0.006164551, 0.21484375, 0.0727...</td>\n",
       "    </tr>\n",
       "  </tbody>\n",
       "</table>\n",
       "</div>"
      ],
      "text/plain": [
       "   id  qid1  qid2                                          question1  \\\n",
       "0   0     1     2  What is the step by step guide to invest in sh...   \n",
       "2   2     5     6  How can I increase the speed of my internet co...   \n",
       "3   3     7     8  Why am I mentally very lonely? How can I solve...   \n",
       "4   4     9    10  Which one dissolve in water quikly sugar, salt...   \n",
       "6   6    13    14                                Should I buy tiago?   \n",
       "\n",
       "                                           question2  is_duplicate  \\\n",
       "0  What is the step by step guide to invest in sh...             0   \n",
       "2  How can Internet speed be increased by hacking...             0   \n",
       "3  Find the remainder when [math]23^{24}[/math] i...             0   \n",
       "4            Which fish would survive in salt water?             0   \n",
       "6  What keeps childern active and far from phone ...             0   \n",
       "\n",
       "                                    question1_tokens  \\\n",
       "0  [what, is, the, step, by, step, guide, to, inv...   \n",
       "2  [how, can, i, increase, the, speed, of, my, in...   \n",
       "3  [why, am, i, mentally, very, lonely, how, can,...   \n",
       "4  [which, one, dissolve, in, water, quikly, suga...   \n",
       "6                            [should, i, buy, tiago]   \n",
       "\n",
       "                                    question2_tokens  \\\n",
       "0  [what, is, the, step, by, step, guide, to, inv...   \n",
       "2  [how, can, internet, speed, be, increased, by,...   \n",
       "3  [find, the, remainder, when, math, 23, ^, 24, ...   \n",
       "4     [which, fish, would, survive, in, salt, water]   \n",
       "6  [what, keeps, childern, active, and, far, from...   \n",
       "\n",
       "                                   question1_vectors  \\\n",
       "0  [[0.13964844, -0.006164551, 0.21484375, 0.0727...   \n",
       "2  [[0.26953125, 0.0859375, 0.09423828, 0.0410156...   \n",
       "3  [[0.15136719, 0.012451172, 0.21777344, 0.03039...   \n",
       "4  [[-0.06933594, 0.044677734, 0.091796875, 0.052...   \n",
       "6  [[-0.034423828, 0.041748047, 0.24902344, 0.228...   \n",
       "\n",
       "                                   question2_vectors  \n",
       "0  [[0.13964844, -0.006164551, 0.21484375, 0.0727...  \n",
       "2  [[0.26953125, 0.0859375, 0.09423828, 0.0410156...  \n",
       "3  [[-0.006958008, -0.043701172, -0.16796875, 0.1...  \n",
       "4  [[-0.06933594, 0.044677734, 0.091796875, 0.052...  \n",
       "6  [[0.13964844, -0.006164551, 0.21484375, 0.0727...  "
      ]
     },
     "execution_count": 21,
     "metadata": {},
     "output_type": "execute_result"
    }
   ],
   "source": [
    "train_df.head()"
   ]
  },
  {
   "cell_type": "markdown",
   "metadata": {},
   "source": [
    "Vamos a guardar por aquí la longitud máxima de la lista de tokens para ambas preguntas."
   ]
  },
  {
   "cell_type": "code",
   "execution_count": 22,
   "metadata": {
    "tags": []
   },
   "outputs": [
    {
     "data": {
      "text/plain": [
       "15"
      ]
     },
     "execution_count": 22,
     "metadata": {},
     "output_type": "execute_result"
    }
   ],
   "source": [
    "max_length_question1 = train_df['question1_tokens'].apply(lambda x: len(x)).max()\n",
    "max_length_question2 = train_df['question2_tokens'].apply(lambda x: len(x)).max()\n",
    "max_length_question = max_length_question1 if max_length_question1 >= max_length_question2 else max_length_question2\n",
    "max_length_question"
   ]
  },
  {
   "cell_type": "markdown",
   "metadata": {
    "tags": []
   },
   "source": [
    "### Crear conjuntos de entrenamiento y prueba, y prepararlos para el dataloader"
   ]
  },
  {
   "cell_type": "markdown",
   "metadata": {},
   "source": [
    "Se define una función para transformar las columnas de los conjuntos a listas de tensores, para que puedan ser usados en el dataloader.\n",
    "\n",
    "También se define una función para agregarle padding a las secuencias, para que todas sean del mismo tamaño (los espacios extras se llenan con 0s)."
   ]
  },
  {
   "cell_type": "code",
   "execution_count": 23,
   "metadata": {},
   "outputs": [],
   "source": [
    "def embedded_vectors_to_tensors(question1_vectors, question2_vectors):\n",
    "    # Cambiamos los conjuntos a un diccionario y los transformamos en\n",
    "    # arreglos de numpy\n",
    "    X = {\n",
    "        'question1': [np.array(vecs) for vecs in question1_vectors],\n",
    "        'question2': [np.array(vecs) for vecs in question2_vectors]\n",
    "    }\n",
    "    # Ahora, transformamos las listas de las columnas de vectores en listas de tensores.\n",
    "    X = {\n",
    "        'question1': [torch.tensor(np_vecs) for np_vecs in X['question1']],\n",
    "        'question2': [torch.tensor(np_vecs) for np_vecs in X['question2']]\n",
    "    }\n",
    "    return X"
   ]
  },
  {
   "cell_type": "code",
   "execution_count": 24,
   "metadata": {
    "tags": []
   },
   "outputs": [],
   "source": [
    "\"\"\"\n",
    "Recibe una lista de (# de ejemplares) tensores de tamaño [max_sequence_length, word_vectors_length].\n",
    "Regresa un tensor de tamaño [# de ejemplares, max_sequence_length, word_vectors_length], con todos\n",
    "sus tensores de tamaño max_sequence_length con 0s en los espacios donde originalmente no había nada (padding).\n",
    "(Checa torch.nn.utils.rnn.pad_sequence)\n",
    "\"\"\"\n",
    "def tensorize_and_pad_sequences(sequences, max_sequence_length, word_vectors_length):\n",
    "    batch_size = 500  # Adjust the batch size as per your memory constraints\n",
    "    num_batches = (len(sequences) + batch_size - 1) // batch_size\n",
    "\n",
    "    dummy_tensor = torch.ones(max_sequence_length, word_vectors_length)\n",
    "\n",
    "    padded_sequences = []\n",
    "    for i in range(num_batches):\n",
    "        if i % 50 == 0:\n",
    "            print('batch: ',i)\n",
    "        batch = sequences[i * batch_size : (i + 1) * batch_size]\n",
    "        num_rows = len(batch)\n",
    "        batch.append(dummy_tensor)\n",
    "        padded_batch = torch.nn.utils.rnn.pad_sequence(batch, batch_first=True)\n",
    "        padded_batch = torch.index_select(padded_batch, 0, torch.arange(num_rows))\n",
    "        padded_sequences.append(padded_batch)\n",
    "\n",
    "    return torch.cat(padded_sequences, dim=0)  # Concatenate the batches"
   ]
  },
  {
   "cell_type": "markdown",
   "metadata": {},
   "source": [
    "Por último, se crea una función que recibe un dataframe, y regresa un diccionario X con un tensor para cada pregunta (question1 y question2) y uno para targets."
   ]
  },
  {
   "cell_type": "code",
   "execution_count": 37,
   "metadata": {},
   "outputs": [],
   "source": [
    "word_vectors_length = 300\n",
    "\n",
    "def prepare_sample_df_for_dataloader(ids, question1_vectors, question2_vectors, targets):    \n",
    "    X = embedded_vectors_to_tensors(question1_vectors, question2_vectors)\n",
    "    X['question1'] = tensorize_and_pad_sequences(X['question1'], max_length_question, word_vectors_length)\n",
    "    X['question2'] = tensorize_and_pad_sequences(X['question2'], max_length_question, word_vectors_length)\n",
    "    \n",
    "    ids = ids.values.tolist()\n",
    "    ids = torch.tensor(ids)\n",
    "    \n",
    "    targets = targets.values.tolist()\n",
    "    targets = torch.tensor(targets)\n",
    "    \n",
    "    print('size q1:', X['question1'].size()) # X.question1 tiene tamaño (NUM_EJEMPLARES, MAX_SENT_LEN, EMBEDDING_DIM).\n",
    "    print('size q2:', X['question2'].size())\n",
    "    print('size targets:', targets.size())\n",
    "    \n",
    "    return ids, X, targets"
   ]
  },
  {
   "cell_type": "markdown",
   "metadata": {},
   "source": [
    "Separación de los conjuntos de entrenamiento y prueba."
   ]
  },
  {
   "cell_type": "code",
   "execution_count": 38,
   "metadata": {},
   "outputs": [],
   "source": [
    "X = train_df[['id','question1_vectors', 'question2_vectors']]\n",
    "Y = train_df['is_duplicate']\n",
    "X_train, X_test, Y_train, Y_test = train_test_split(X, Y, test_size=0.2, random_state=42)"
   ]
  },
  {
   "cell_type": "markdown",
   "metadata": {
    "tags": []
   },
   "source": [
    "## Creación del DataLoader"
   ]
  },
  {
   "cell_type": "markdown",
   "metadata": {},
   "source": [
    "Creo un DataSet y DataLoader para el conjunto de entrenamiento y de prueba."
   ]
  },
  {
   "cell_type": "code",
   "execution_count": 39,
   "metadata": {
    "tags": []
   },
   "outputs": [],
   "source": [
    "BATCH_SIZE = 128"
   ]
  },
  {
   "cell_type": "code",
   "execution_count": 40,
   "metadata": {
    "tags": []
   },
   "outputs": [],
   "source": [
    "class QuestionsDataset(Dataset):\n",
    "    def __init__(self, ids, question1, question2, targets):\n",
    "        self.ids = ids\n",
    "        self.question1 = question1\n",
    "        self.question2 = question2\n",
    "        self.targets = targets\n",
    "\n",
    "    def __len__(self):\n",
    "        return len(self.targets)\n",
    "\n",
    "    def __getitem__(self, index):\n",
    "        pairId = self.ids[index]\n",
    "        question1 = self.question1[index]\n",
    "        question2 = self.question2[index]\n",
    "        isDuplicate = self.targets[index]\n",
    "\n",
    "        return pairId, question1, question2, isDuplicate"
   ]
  },
  {
   "cell_type": "code",
   "execution_count": 41,
   "metadata": {},
   "outputs": [
    {
     "name": "stdout",
     "output_type": "stream",
     "text": [
      "batch:  0\n",
      "batch:  50\n",
      "batch:  100\n",
      "batch:  150\n",
      "batch:  0\n",
      "batch:  50\n",
      "batch:  100\n",
      "batch:  150\n",
      "size q1: torch.Size([79990, 15, 300])\n",
      "size q2: torch.Size([79990, 15, 300])\n",
      "size targets: torch.Size([79990])\n"
     ]
    }
   ],
   "source": [
    "# El resultado de prepare_sample_df_for_dataloader lo podemos convertir a un QuestionsDataset para ingresarlo en el dataloader\n",
    "\n",
    "ids, X, targets = prepare_sample_df_for_dataloader(X_train.id, X_train.question1_vectors, X_train.question2_vectors, Y_train)\n",
    "dataset_train = QuestionsDataset(ids, X['question1'], X['question2'], targets)\n",
    "dataloader_train = DataLoader(dataset_train, batch_size=BATCH_SIZE, shuffle=True)"
   ]
  },
  {
   "cell_type": "code",
   "execution_count": 42,
   "metadata": {
    "tags": []
   },
   "outputs": [
    {
     "data": {
      "text/plain": [
       "torch.Size([128, 15, 300])"
      ]
     },
     "execution_count": 42,
     "metadata": {},
     "output_type": "execute_result"
    }
   ],
   "source": [
    "# vemos que el tamaño sea correcto\n",
    "pairId, question1_batch, question2_batch, isDuplicate_batch = next(iter(dataloader_train))\n",
    "question1_batch.size()"
   ]
  },
  {
   "cell_type": "markdown",
   "metadata": {
    "tags": []
   },
   "source": [
    "## Definición del modelo\n",
    "Una vez que se tienen las entradas, el modelo necesita 3 cosas: el codificador posicional, el encoder del transformador, y una función de similitud entre dos vectores (las salidas del encoder del transformador). Estas tres cosas las vamos a integrar en una red neuronal siamesa."
   ]
  },
  {
   "cell_type": "markdown",
   "metadata": {
    "tags": []
   },
   "source": [
    "### Codificación posicional\n",
    "Se les aplica una codificación posicional a las secuencias de embeddings, para tomar en cuenta el orden de las secuencias."
   ]
  },
  {
   "cell_type": "markdown",
   "metadata": {
    "tags": []
   },
   "source": [
    "En el paper original por Vaswani et al., la matriz para codificar la posición se obtenía con las siguientes fórmulas:\n",
    "$$\n",
    "PE(\\text{position}, 2i) = \\sin\\bigg( \\frac{ \\text{position} }{10000^\\frac{2i}{d}} \\bigg)\n",
    "$$\n",
    "\n",
    "$$\n",
    "PE(\\text{position}, 2i+1) = \\cos\\bigg( \\frac{ \\text{position} }{10000^\\frac{2i}{d}} \\bigg)\n",
    "$$\n",
    "\n",
    "donde *d* es la dimensión de los vectores de los tokens."
   ]
  },
  {
   "cell_type": "markdown",
   "metadata": {},
   "source": [
    "Para hacer la codificación posicional se crea una clase PositionalEncoding. "
   ]
  },
  {
   "cell_type": "code",
   "execution_count": 48,
   "metadata": {
    "tags": []
   },
   "outputs": [],
   "source": [
    "import math\n",
    "\n",
    "class PositionalEncoding(nn.Module):\n",
    "    def __init__(self, d_model, max_seq_len):\n",
    "        super(PositionalEncoding, self).__init__()\n",
    "        self.d_model = d_model\n",
    "\n",
    "        # Create the positional encoding matrix\n",
    "        pe = torch.zeros(max_seq_len, d_model)\n",
    "        position = torch.arange(0, max_seq_len, dtype=torch.float).unsqueeze(1)\n",
    "        div_term = torch.exp(torch.arange(0, d_model, 2).float() * (-math.log(10000.0) / d_model))\n",
    "        pe[:, 0::2] = torch.sin(position * div_term)\n",
    "        pe[:, 1::2] = torch.cos(position * div_term)\n",
    "        pe = pe.unsqueeze(0)\n",
    "\n",
    "        self.register_buffer('pe', pe)\n",
    "\n",
    "    def forward(self, x):\n",
    "        # Add the positional encoding to the input\n",
    "        x = x + self.pe[:, :x.size(1)]\n",
    "        return x"
   ]
  },
  {
   "cell_type": "code",
   "execution_count": 50,
   "metadata": {
    "tags": []
   },
   "outputs": [
    {
     "name": "stdout",
     "output_type": "stream",
     "text": [
      "torch.Size([128, 15, 300])\n"
     ]
    }
   ],
   "source": [
    "# Probamos para ver la forma del tensor que regresa\n",
    "positionalEncoder = PositionalEncoding(word_vectors_length, max_seq_len = max_length_question)\n",
    "question1_batch = positionalEncoder(question1_batch)\n",
    "print(question1_batch.shape)              # (BATCH_SIZE, MAX_SEQ_LEN, EMBEDDING_DIM)"
   ]
  },
  {
   "cell_type": "markdown",
   "metadata": {
    "tags": []
   },
   "source": [
    "### El encoder del transformador"
   ]
  },
  {
   "cell_type": "code",
   "execution_count": 51,
   "metadata": {
    "tags": []
   },
   "outputs": [
    {
     "name": "stdout",
     "output_type": "stream",
     "text": [
      "torch.Size([128, 15, 300])\n"
     ]
    }
   ],
   "source": [
    "# Probamos para ver la forma del tensor que regresa\n",
    "EMBEDDING_DIM = word_vectors_length\n",
    "HIDDEN_SIZE = 32\n",
    "NUM_HEADS = 5\n",
    "DROPOUT = .1\n",
    "\n",
    "enc_layer = nn.TransformerEncoderLayer(EMBEDDING_DIM, NUM_HEADS, HIDDEN_SIZE, DROPOUT, batch_first=True)\n",
    "encoder_result = enc_layer(question1_batch)\n",
    "print(encoder_result.shape)"
   ]
  },
  {
   "cell_type": "markdown",
   "metadata": {
    "tags": []
   },
   "source": [
    "### Pooling\n",
    "En el paper de SBERT usan mean pooling."
   ]
  },
  {
   "cell_type": "code",
   "execution_count": 52,
   "metadata": {},
   "outputs": [
    {
     "data": {
      "text/plain": [
       "torch.Size([128, 15, 1])"
      ]
     },
     "execution_count": 52,
     "metadata": {},
     "output_type": "execute_result"
    }
   ],
   "source": [
    "# Probamos para ver la forma del tensor que regresa\n",
    "one_encoder_result = encoder_result\n",
    "poolingLayer = nn.AvgPool2d(kernel_size=(1, word_vectors_length), stride=(1, word_vectors_length))\n",
    "output = poolingLayer(one_encoder_result)\n",
    "output.size()"
   ]
  },
  {
   "cell_type": "markdown",
   "metadata": {
    "tags": []
   },
   "source": [
    "### La función de similitud\n",
    "En el paper de SBERT usan cosine similarity."
   ]
  },
  {
   "cell_type": "markdown",
   "metadata": {
    "tags": []
   },
   "source": [
    "### Construcción de la red siamesa\n",
    "La red va a tener un encoder de transformador en cada lado, y los vectores resultantes se van a comparar con cosine_similarity ???\n",
    "\n",
    "// Mostrar una imagen de la arquitectura"
   ]
  },
  {
   "cell_type": "code",
   "execution_count": 53,
   "metadata": {
    "tags": []
   },
   "outputs": [],
   "source": [
    "class SiameseNetwork(nn.Module):\n",
    "    EMBEDDING_DIM = word_vectors_length\n",
    "    HIDDEN_SIZE = 32\n",
    "    NUM_HEADS = 5\n",
    "    DROPOUT = .1\n",
    "    def __init__(self):\n",
    "        super(SiameseNetwork, self).__init__()\n",
    "        \n",
    "        # Positional Encodder\n",
    "        self.positionalEncoder = PositionalEncoding(word_vectors_length, max_seq_len = max_length_question)\n",
    "\n",
    "        # Capas de encoders de transformadores\n",
    "        self.transformer_encoder_1 = nn.TransformerEncoderLayer(EMBEDDING_DIM, NUM_HEADS, HIDDEN_SIZE, DROPOUT, batch_first=True)\n",
    "        self.transformer_encoder_2 = nn.TransformerEncoderLayer(EMBEDDING_DIM, NUM_HEADS, HIDDEN_SIZE, DROPOUT, batch_first=True)\n",
    "        self.transformer_encoder_3 = nn.TransformerEncoderLayer(EMBEDDING_DIM, NUM_HEADS, HIDDEN_SIZE, DROPOUT, batch_first=True)\n",
    "        self.transformer_encoder_4 = nn.TransformerEncoderLayer(EMBEDDING_DIM, NUM_HEADS, HIDDEN_SIZE, DROPOUT, batch_first=True)\n",
    "        \n",
    "\n",
    "        # Mean Pooling\n",
    "        self.avg_pool = nn.AvgPool2d(kernel_size=(1, word_vectors_length), stride=(1, word_vectors_length))\n",
    "\n",
    "        # Cosine Similarity\n",
    "        self.cos_similarity = nn.CosineSimilarity(dim=1)\n",
    "\n",
    "    def forward(self, input1, input2):\n",
    "        # Pasamos la pregunta 1:\n",
    "        input1 = self.positionalEncoder(input1)\n",
    "        output1 = self.transformer_encoder_1(input1)\n",
    "        output1 = self.transformer_encoder_2(input1)\n",
    "        output1 = self.transformer_encoder_3(input1)\n",
    "        output1 = self.transformer_encoder_4(input1)\n",
    "        output1 = self.avg_pool(output1)\n",
    "        output1 = torch.flatten(output1, start_dim=1)\n",
    "        \n",
    "        # Pasamos la pregunta 2:\n",
    "        input2 = self.positionalEncoder(input2)\n",
    "        output2 = self.transformer_encoder_1(input2)\n",
    "        output2 = self.transformer_encoder_2(input2)\n",
    "        output2 = self.transformer_encoder_3(input2)\n",
    "        output2 = self.transformer_encoder_4(input2)\n",
    "        output2 = self.avg_pool(output2)\n",
    "        output2 = torch.flatten(output2, start_dim=1)\n",
    "\n",
    "        # Compute Cosine Similarity\n",
    "        similarity = self.cos_similarity(output1, output2)\n",
    "\n",
    "        return similarity"
   ]
  },
  {
   "cell_type": "code",
   "execution_count": 89,
   "metadata": {
    "tags": []
   },
   "outputs": [],
   "source": [
    "class SiameseNetworkBinary(nn.Module):\n",
    "    EMBEDDING_DIM = word_vectors_length\n",
    "    HIDDEN_SIZE = 100\n",
    "    NUM_HEADS = 6\n",
    "    DROPOUT = .1\n",
    "    def __init__(self):\n",
    "        super(SiameseNetwork, self).__init__()\n",
    "        \n",
    "        # Positional Encodder\n",
    "        self.positionalEncoder = PositionalEncoding(word_vectors_length, max_seq_len = max_length_question)\n",
    "\n",
    "        # Capas de encoders de transformadores\n",
    "        self.transformer_encoder_1 = nn.TransformerEncoderLayer(EMBEDDING_DIM, NUM_HEADS, HIDDEN_SIZE, DROPOUT, batch_first=True)\n",
    "        self.transformer_encoder_2 = nn.TransformerEncoderLayer(EMBEDDING_DIM, NUM_HEADS, HIDDEN_SIZE, DROPOUT, batch_first=True)\n",
    "        self.transformer_encoder_3 = nn.TransformerEncoderLayer(EMBEDDING_DIM, NUM_HEADS, HIDDEN_SIZE, DROPOUT, batch_first=True)\n",
    "        self.transformer_encoder_4 = nn.TransformerEncoderLayer(EMBEDDING_DIM, NUM_HEADS, HIDDEN_SIZE, DROPOUT, batch_first=True)\n",
    "        \n",
    "\n",
    "        # Mean Pooling\n",
    "        self.avg_pool = nn.AvgPool2d(kernel_size=(1, word_vectors_length), stride=(1, word_vectors_length))\n",
    "\n",
    "        # Cosine Similarity\n",
    "        self.cos_similarity = nn.CosineSimilarity(dim=1)\n",
    "\n",
    "    def forward(self, input1, input2):\n",
    "        # Pasamos la pregunta 1:\n",
    "        input1 = self.positionalEncoder(input1)\n",
    "        output1 = self.transformer_encoder_1(input1)\n",
    "        output1 = self.transformer_encoder_2(input1)\n",
    "        output1 = self.transformer_encoder_3(input1)\n",
    "        output1 = self.transformer_encoder_4(input1)\n",
    "        output1 = self.avg_pool(output1)\n",
    "        output1 = torch.flatten(output1, start_dim=1)\n",
    "        \n",
    "        # Pasamos la pregunta 2:\n",
    "        input2 = self.positionalEncoder(input2)\n",
    "        output2 = self.transformer_encoder_1(input2)\n",
    "        output2 = self.transformer_encoder_2(input2)\n",
    "        output2 = self.transformer_encoder_3(input2)\n",
    "        output2 = self.transformer_encoder_4(input2)\n",
    "        output2 = self.avg_pool(output2)\n",
    "        output2 = torch.flatten(output2, start_dim=1)\n",
    "\n",
    "        # Compute Cosine Similarity\n",
    "        similarity = self.cos_similarity(output1, output2)\n",
    "        isDuplicate = torch.where(similarity > 0.65, 1, 0)\n",
    "\n",
    "        return isDuplicate"
   ]
  },
  {
   "cell_type": "markdown",
   "metadata": {},
   "source": [
    "## Entrenamiento\n",
    "En el paper de SBERT usan  batch-size of 16, Adam optimizer with\n",
    "learning rate 2e−5, and a linear learning rate\n",
    "warm-up over 10% of the training data."
   ]
  },
  {
   "cell_type": "code",
   "execution_count": 54,
   "metadata": {
    "tags": []
   },
   "outputs": [],
   "source": [
    "from sklearn.metrics import accuracy_score\n",
    "\n",
    "def get_accuracy_one_batch(dataloader):\n",
    "    pairId_batch, question1_batch, question2_batch, isDuplicate_batch = next(iter(dataloader))\n",
    "    predicted_similarity = modelo(question1_batch, question2_batch)\n",
    "    predicted_similarity = predicted_similarity.detach()\n",
    "    predicted_similarity = torch.where(predicted_similarity > 0.65, 1, 0)\n",
    "    return accuracy_score(isDuplicate_batch, predicted_similarity)"
   ]
  },
  {
   "cell_type": "code",
   "execution_count": 55,
   "metadata": {
    "tags": []
   },
   "outputs": [
    {
     "name": "stdout",
     "output_type": "stream",
     "text": [
      "batch:  0\n",
      "batch:  0\n",
      "size q1: torch.Size([19998, 15, 300])\n",
      "size q2: torch.Size([19998, 15, 300])\n",
      "size targets: torch.Size([19998])\n"
     ]
    }
   ],
   "source": [
    "# Para ir mostrando la accuracy en el conjunto de prueba\n",
    "ids, X, targets = prepare_sample_df_for_dataloader(X_test.id, X_test.question1_vectors, X_test.question2_vectors, Y_test)\n",
    "dataset_test = QuestionsDataset(ids, X['question1'], X['question2'], targets)\n",
    "dataloader_test = DataLoader(dataset_test, batch_size=512, shuffle=True)"
   ]
  },
  {
   "cell_type": "code",
   "execution_count": 60,
   "metadata": {
    "tags": []
   },
   "outputs": [],
   "source": [
    "# Define the MSE loss function\n",
    "criterion = nn.MSELoss()\n",
    "\n",
    "# Define the optimizer\n",
    "learning_rate = 0.0001\n",
    "\n",
    "def train(dataloader, model, epochs, dataloader_test):\n",
    "    print(\"::: Iniciando entrenamiento... :::\")\n",
    "    optimizer = optim.Adam(model.parameters(), lr=learning_rate)\n",
    "    \n",
    "    all_losses = []\n",
    "    all_accuracies = []\n",
    "    for epoch in range(epochs):\n",
    "        loss = 0\n",
    "        batch_num = 0\n",
    "        print(\"-------------------------------------------------------------------------------------\")\n",
    "        print(f\"Epoch: {epoch}\")\n",
    "        for data in dataloader:\n",
    "            pairId, input1, input2, target_similarity = data\n",
    "            optimizer.zero_grad()\n",
    "            output_similarity = model(input1, input2)\n",
    "            # Convertir target_similarity al mismo tipo de dato que output_similarity\n",
    "            target_similarity = target_similarity.to(output_similarity.dtype)\n",
    "            loss = criterion(output_similarity, target_similarity)\n",
    "\n",
    "            loss.backward()\n",
    "            optimizer.step()\n",
    "            \n",
    "            if batch_num % 50 == 0:\n",
    "                all_losses.append(loss.item())\n",
    "                \n",
    "            if batch_num % 100 == 0:\n",
    "                print(f\"Epoch: {epoch},  Batch number: {batch_num},  Loss: {loss.item()}\")\n",
    "            batch_num = batch_num + 1\n",
    "        \n",
    "        print(\"-------------------------------------------------------------------------------------\")\n",
    "        accuracy = get_accuracy_one_batch(dataloader_test)\n",
    "        print(f\"Accuracy in test batch: {accuracy}\")\n",
    "        all_accuracies.append(accuracy)\n",
    "        \n",
    "    print(\"::: ...Fin del entrenamiento :::\")\n",
    "    return all_losses, all_accuracies"
   ]
  },
  {
   "cell_type": "markdown",
   "metadata": {},
   "source": [
    "Vamos a crear un modelo llamado *modelo* (por quora question pairs). Y vamos a ir entrenando por separado cada epoch. Después de entrenar un epoc vamos a ir guardando el modelo en la dirección especificada. Esto para no perder el progreso del entrenamiento si se  acaba la memoria."
   ]
  },
  {
   "cell_type": "code",
   "execution_count": 90,
   "metadata": {
    "tags": []
   },
   "outputs": [
    {
     "ename": "TypeError",
     "evalue": "super(type, obj): obj must be an instance or subtype of type",
     "output_type": "error",
     "traceback": [
      "\u001b[1;31m---------------------------------------------------------------------------\u001b[0m",
      "\u001b[1;31mTypeError\u001b[0m                                 Traceback (most recent call last)",
      "Cell \u001b[1;32mIn[90], line 2\u001b[0m\n\u001b[0;32m      1\u001b[0m \u001b[38;5;66;03m### Prueba con SiameseNetworkBinary\u001b[39;00m\n\u001b[1;32m----> 2\u001b[0m modelo_binary \u001b[38;5;241m=\u001b[39m \u001b[43mSiameseNetworkBinary\u001b[49m\u001b[43m(\u001b[49m\u001b[43m)\u001b[49m\n\u001b[0;32m      3\u001b[0m losses, accuracies \u001b[38;5;241m=\u001b[39m train(dataloader_train, modelo, \u001b[38;5;241m5\u001b[39m, dataloader_test)\n",
      "Cell \u001b[1;32mIn[89], line 7\u001b[0m, in \u001b[0;36mSiameseNetworkBinary.__init__\u001b[1;34m(self)\u001b[0m\n\u001b[0;32m      6\u001b[0m \u001b[38;5;28;01mdef\u001b[39;00m \u001b[38;5;21m__init__\u001b[39m(\u001b[38;5;28mself\u001b[39m):\n\u001b[1;32m----> 7\u001b[0m     \u001b[38;5;28;43msuper\u001b[39;49m\u001b[43m(\u001b[49m\u001b[43mSiameseNetwork\u001b[49m\u001b[43m,\u001b[49m\u001b[43m \u001b[49m\u001b[38;5;28;43mself\u001b[39;49m\u001b[43m)\u001b[49m\u001b[38;5;241m.\u001b[39m\u001b[38;5;21m__init__\u001b[39m()\n\u001b[0;32m      9\u001b[0m     \u001b[38;5;66;03m# Positional Encodder\u001b[39;00m\n\u001b[0;32m     10\u001b[0m     \u001b[38;5;28mself\u001b[39m\u001b[38;5;241m.\u001b[39mpositionalEncoder \u001b[38;5;241m=\u001b[39m PositionalEncoding(word_vectors_length, max_seq_len \u001b[38;5;241m=\u001b[39m max_length_question)\n",
      "\u001b[1;31mTypeError\u001b[0m: super(type, obj): obj must be an instance or subtype of type"
     ]
    }
   ],
   "source": [
    "### Prueba con SiameseNetworkBinary\n",
    "modelo_binary = SiameseNetworkBinary()\n",
    "losses, accuracies = train(dataloader_train, modelo, 5, dataloader_test)"
   ]
  },
  {
   "cell_type": "code",
   "execution_count": 62,
   "metadata": {},
   "outputs": [],
   "source": [
    "# Creamos el modelo\n",
    "modelo = SiameseNetwork()"
   ]
  },
  {
   "cell_type": "code",
   "execution_count": 63,
   "metadata": {},
   "outputs": [
    {
     "name": "stdout",
     "output_type": "stream",
     "text": [
      "::: Iniciando entrenamiento... :::\n",
      "-------------------------------------------------------------------------------------\n",
      "Epoch: 0\n",
      "Epoch: 0,  Batch number: 0,  Loss: 0.6281715631484985\n",
      "Epoch: 0,  Batch number: 100,  Loss: 0.4372835159301758\n",
      "Epoch: 0,  Batch number: 200,  Loss: 0.2669309675693512\n",
      "Epoch: 0,  Batch number: 300,  Loss: 0.25663918256759644\n",
      "Epoch: 0,  Batch number: 400,  Loss: 0.28099530935287476\n",
      "Epoch: 0,  Batch number: 500,  Loss: 0.2721079885959625\n",
      "Epoch: 0,  Batch number: 600,  Loss: 0.27518731355667114\n",
      "-------------------------------------------------------------------------------------\n",
      "Accuracy in test batch: 0.548828125\n",
      "-------------------------------------------------------------------------------------\n",
      "Epoch: 1\n",
      "Epoch: 1,  Batch number: 0,  Loss: 0.2784268260002136\n",
      "Epoch: 1,  Batch number: 100,  Loss: 0.23943671584129333\n",
      "Epoch: 1,  Batch number: 200,  Loss: 0.2540145814418793\n",
      "Epoch: 1,  Batch number: 300,  Loss: 0.2904406189918518\n",
      "Epoch: 1,  Batch number: 400,  Loss: 0.24144390225410461\n",
      "Epoch: 1,  Batch number: 500,  Loss: 0.2830049693584442\n",
      "Epoch: 1,  Batch number: 600,  Loss: 0.2390601933002472\n",
      "-------------------------------------------------------------------------------------\n",
      "Accuracy in test batch: 0.560546875\n",
      "-------------------------------------------------------------------------------------\n",
      "Epoch: 2\n",
      "Epoch: 2,  Batch number: 0,  Loss: 0.2730863094329834\n",
      "Epoch: 2,  Batch number: 100,  Loss: 0.25986817479133606\n",
      "Epoch: 2,  Batch number: 200,  Loss: 0.23453450202941895\n",
      "Epoch: 2,  Batch number: 300,  Loss: 0.2516659200191498\n",
      "Epoch: 2,  Batch number: 400,  Loss: 0.24861079454421997\n",
      "Epoch: 2,  Batch number: 500,  Loss: 0.28282108902931213\n",
      "Epoch: 2,  Batch number: 600,  Loss: 0.2428581416606903\n",
      "-------------------------------------------------------------------------------------\n",
      "Accuracy in test batch: 0.578125\n",
      "-------------------------------------------------------------------------------------\n",
      "Epoch: 3\n",
      "Epoch: 3,  Batch number: 0,  Loss: 0.27541983127593994\n",
      "Epoch: 3,  Batch number: 100,  Loss: 0.2605190575122833\n",
      "Epoch: 3,  Batch number: 200,  Loss: 0.25197485089302063\n",
      "Epoch: 3,  Batch number: 300,  Loss: 0.2353617399930954\n",
      "Epoch: 3,  Batch number: 400,  Loss: 0.2670936584472656\n",
      "Epoch: 3,  Batch number: 500,  Loss: 0.2542627453804016\n",
      "Epoch: 3,  Batch number: 600,  Loss: 0.2701547145843506\n",
      "-------------------------------------------------------------------------------------\n",
      "Accuracy in test batch: 0.6015625\n",
      "-------------------------------------------------------------------------------------\n",
      "Epoch: 4\n",
      "Epoch: 4,  Batch number: 0,  Loss: 0.22117331624031067\n",
      "Epoch: 4,  Batch number: 100,  Loss: 0.23047512769699097\n",
      "Epoch: 4,  Batch number: 200,  Loss: 0.21533265709877014\n",
      "Epoch: 4,  Batch number: 300,  Loss: 0.28116968274116516\n",
      "Epoch: 4,  Batch number: 400,  Loss: 0.22741688787937164\n",
      "Epoch: 4,  Batch number: 500,  Loss: 0.2296895533800125\n",
      "Epoch: 4,  Batch number: 600,  Loss: 0.2637784481048584\n",
      "-------------------------------------------------------------------------------------\n",
      "Accuracy in test batch: 0.634765625\n",
      "-------------------------------------------------------------------------------------\n",
      "Epoch: 5\n",
      "Epoch: 5,  Batch number: 0,  Loss: 0.23502805829048157\n",
      "Epoch: 5,  Batch number: 100,  Loss: 0.2735326886177063\n",
      "Epoch: 5,  Batch number: 200,  Loss: 0.2562793791294098\n",
      "Epoch: 5,  Batch number: 300,  Loss: 0.26059699058532715\n",
      "Epoch: 5,  Batch number: 400,  Loss: 0.28110745549201965\n",
      "Epoch: 5,  Batch number: 500,  Loss: 0.2265131026506424\n",
      "Epoch: 5,  Batch number: 600,  Loss: 0.239729642868042\n",
      "-------------------------------------------------------------------------------------\n",
      "Accuracy in test batch: 0.6015625\n",
      "-------------------------------------------------------------------------------------\n",
      "Epoch: 6\n",
      "Epoch: 6,  Batch number: 0,  Loss: 0.23833531141281128\n",
      "Epoch: 6,  Batch number: 100,  Loss: 0.2673722505569458\n",
      "Epoch: 6,  Batch number: 200,  Loss: 0.21575488150119781\n",
      "Epoch: 6,  Batch number: 300,  Loss: 0.23318670690059662\n",
      "Epoch: 6,  Batch number: 400,  Loss: 0.25534379482269287\n",
      "Epoch: 6,  Batch number: 500,  Loss: 0.2319796085357666\n",
      "Epoch: 6,  Batch number: 600,  Loss: 0.24958020448684692\n",
      "-------------------------------------------------------------------------------------\n",
      "Accuracy in test batch: 0.646484375\n",
      "-------------------------------------------------------------------------------------\n",
      "Epoch: 7\n",
      "Epoch: 7,  Batch number: 0,  Loss: 0.2556508779525757\n",
      "Epoch: 7,  Batch number: 100,  Loss: 0.2523597180843353\n",
      "Epoch: 7,  Batch number: 200,  Loss: 0.23461435735225677\n",
      "Epoch: 7,  Batch number: 300,  Loss: 0.2578888237476349\n",
      "Epoch: 7,  Batch number: 400,  Loss: 0.2552294433116913\n",
      "Epoch: 7,  Batch number: 500,  Loss: 0.2236538678407669\n",
      "Epoch: 7,  Batch number: 600,  Loss: 0.24621033668518066\n",
      "-------------------------------------------------------------------------------------\n",
      "Accuracy in test batch: 0.59375\n",
      "-------------------------------------------------------------------------------------\n",
      "Epoch: 8\n",
      "Epoch: 8,  Batch number: 0,  Loss: 0.2551930844783783\n",
      "Epoch: 8,  Batch number: 100,  Loss: 0.20262333750724792\n",
      "Epoch: 8,  Batch number: 200,  Loss: 0.2604839503765106\n",
      "Epoch: 8,  Batch number: 300,  Loss: 0.23036620020866394\n",
      "Epoch: 8,  Batch number: 400,  Loss: 0.24935436248779297\n",
      "Epoch: 8,  Batch number: 500,  Loss: 0.2381252646446228\n",
      "Epoch: 8,  Batch number: 600,  Loss: 0.1978432983160019\n",
      "-------------------------------------------------------------------------------------\n",
      "Accuracy in test batch: 0.611328125\n",
      "-------------------------------------------------------------------------------------\n",
      "Epoch: 9\n",
      "Epoch: 9,  Batch number: 0,  Loss: 0.20165883004665375\n",
      "Epoch: 9,  Batch number: 100,  Loss: 0.2552797198295593\n",
      "Epoch: 9,  Batch number: 200,  Loss: 0.24296224117279053\n",
      "Epoch: 9,  Batch number: 300,  Loss: 0.2393370270729065\n",
      "Epoch: 9,  Batch number: 400,  Loss: 0.2523837983608246\n",
      "Epoch: 9,  Batch number: 500,  Loss: 0.2628776729106903\n",
      "Epoch: 9,  Batch number: 600,  Loss: 0.27886345982551575\n",
      "-------------------------------------------------------------------------------------\n",
      "Accuracy in test batch: 0.67578125\n",
      "-------------------------------------------------------------------------------------\n",
      "Epoch: 10\n",
      "Epoch: 10,  Batch number: 0,  Loss: 0.232541024684906\n",
      "Epoch: 10,  Batch number: 100,  Loss: 0.21479186415672302\n",
      "Epoch: 10,  Batch number: 200,  Loss: 0.2142290323972702\n",
      "Epoch: 10,  Batch number: 300,  Loss: 0.24624750018119812\n",
      "Epoch: 10,  Batch number: 400,  Loss: 0.26655668020248413\n",
      "Epoch: 10,  Batch number: 500,  Loss: 0.2353176772594452\n",
      "Epoch: 10,  Batch number: 600,  Loss: 0.24085745215415955\n",
      "-------------------------------------------------------------------------------------\n",
      "Accuracy in test batch: 0.634765625\n",
      "-------------------------------------------------------------------------------------\n",
      "Epoch: 11\n",
      "Epoch: 11,  Batch number: 0,  Loss: 0.24562010169029236\n",
      "Epoch: 11,  Batch number: 100,  Loss: 0.2454727292060852\n",
      "Epoch: 11,  Batch number: 200,  Loss: 0.2617815136909485\n",
      "Epoch: 11,  Batch number: 300,  Loss: 0.24034690856933594\n",
      "Epoch: 11,  Batch number: 400,  Loss: 0.24885886907577515\n",
      "Epoch: 11,  Batch number: 500,  Loss: 0.22690629959106445\n",
      "Epoch: 11,  Batch number: 600,  Loss: 0.2864398658275604\n",
      "-------------------------------------------------------------------------------------\n",
      "Accuracy in test batch: 0.62109375\n",
      "-------------------------------------------------------------------------------------\n",
      "Epoch: 12\n",
      "Epoch: 12,  Batch number: 0,  Loss: 0.1915440559387207\n",
      "Epoch: 12,  Batch number: 100,  Loss: 0.28141146898269653\n",
      "Epoch: 12,  Batch number: 200,  Loss: 0.23511247336864471\n",
      "Epoch: 12,  Batch number: 300,  Loss: 0.21603751182556152\n",
      "Epoch: 12,  Batch number: 400,  Loss: 0.2537468671798706\n",
      "Epoch: 12,  Batch number: 500,  Loss: 0.2621305584907532\n",
      "Epoch: 12,  Batch number: 600,  Loss: 0.22632288932800293\n",
      "-------------------------------------------------------------------------------------\n",
      "Accuracy in test batch: 0.6484375\n",
      "-------------------------------------------------------------------------------------\n",
      "Epoch: 13\n",
      "Epoch: 13,  Batch number: 0,  Loss: 0.25786083936691284\n",
      "Epoch: 13,  Batch number: 100,  Loss: 0.2475915402173996\n",
      "Epoch: 13,  Batch number: 200,  Loss: 0.26392289996147156\n",
      "Epoch: 13,  Batch number: 300,  Loss: 0.2469833791255951\n",
      "Epoch: 13,  Batch number: 400,  Loss: 0.24537958204746246\n",
      "Epoch: 13,  Batch number: 500,  Loss: 0.19089847803115845\n",
      "Epoch: 13,  Batch number: 600,  Loss: 0.23794162273406982\n",
      "-------------------------------------------------------------------------------------\n",
      "Accuracy in test batch: 0.642578125\n",
      "-------------------------------------------------------------------------------------\n",
      "Epoch: 14\n",
      "Epoch: 14,  Batch number: 0,  Loss: 0.2280283123254776\n",
      "Epoch: 14,  Batch number: 100,  Loss: 0.24211721122264862\n",
      "Epoch: 14,  Batch number: 200,  Loss: 0.22655624151229858\n",
      "Epoch: 14,  Batch number: 300,  Loss: 0.2476554661989212\n",
      "Epoch: 14,  Batch number: 400,  Loss: 0.22944959998130798\n",
      "Epoch: 14,  Batch number: 500,  Loss: 0.24407434463500977\n",
      "Epoch: 14,  Batch number: 600,  Loss: 0.1997203230857849\n",
      "-------------------------------------------------------------------------------------\n",
      "Accuracy in test batch: 0.64453125\n",
      "-------------------------------------------------------------------------------------\n",
      "Epoch: 15\n",
      "Epoch: 15,  Batch number: 0,  Loss: 0.2807663083076477\n",
      "Epoch: 15,  Batch number: 100,  Loss: 0.228006511926651\n",
      "Epoch: 15,  Batch number: 200,  Loss: 0.24394504725933075\n",
      "Epoch: 15,  Batch number: 300,  Loss: 0.22247099876403809\n",
      "Epoch: 15,  Batch number: 400,  Loss: 0.25264137983322144\n",
      "Epoch: 15,  Batch number: 500,  Loss: 0.22242103517055511\n",
      "Epoch: 15,  Batch number: 600,  Loss: 0.21008087694644928\n",
      "-------------------------------------------------------------------------------------\n",
      "Accuracy in test batch: 0.609375\n",
      "-------------------------------------------------------------------------------------\n",
      "Epoch: 16\n",
      "Epoch: 16,  Batch number: 0,  Loss: 0.20309880375862122\n",
      "Epoch: 16,  Batch number: 100,  Loss: 0.24663838744163513\n",
      "Epoch: 16,  Batch number: 200,  Loss: 0.24680659174919128\n",
      "Epoch: 16,  Batch number: 300,  Loss: 0.21365134418010712\n",
      "Epoch: 16,  Batch number: 400,  Loss: 0.23202884197235107\n",
      "Epoch: 16,  Batch number: 500,  Loss: 0.23180097341537476\n",
      "Epoch: 16,  Batch number: 600,  Loss: 0.2620510458946228\n",
      "-------------------------------------------------------------------------------------\n",
      "Accuracy in test batch: 0.607421875\n",
      "-------------------------------------------------------------------------------------\n",
      "Epoch: 17\n",
      "Epoch: 17,  Batch number: 0,  Loss: 0.3024745285511017\n",
      "Epoch: 17,  Batch number: 100,  Loss: 0.23258332908153534\n",
      "Epoch: 17,  Batch number: 200,  Loss: 0.19606567919254303\n",
      "Epoch: 17,  Batch number: 300,  Loss: 0.23551389575004578\n",
      "Epoch: 17,  Batch number: 400,  Loss: 0.24932949244976044\n",
      "Epoch: 17,  Batch number: 500,  Loss: 0.19660498201847076\n",
      "Epoch: 17,  Batch number: 600,  Loss: 0.22665050625801086\n",
      "-------------------------------------------------------------------------------------\n",
      "Accuracy in test batch: 0.67578125\n",
      "-------------------------------------------------------------------------------------\n",
      "Epoch: 18\n",
      "Epoch: 18,  Batch number: 0,  Loss: 0.23994658887386322\n",
      "Epoch: 18,  Batch number: 100,  Loss: 0.23024709522724152\n",
      "Epoch: 18,  Batch number: 200,  Loss: 0.22914429008960724\n",
      "Epoch: 18,  Batch number: 300,  Loss: 0.24944111704826355\n",
      "Epoch: 18,  Batch number: 400,  Loss: 0.27592918276786804\n",
      "Epoch: 18,  Batch number: 500,  Loss: 0.24284596741199493\n",
      "Epoch: 18,  Batch number: 600,  Loss: 0.250846266746521\n",
      "-------------------------------------------------------------------------------------\n",
      "Accuracy in test batch: 0.6328125\n",
      "-------------------------------------------------------------------------------------\n",
      "Epoch: 19\n",
      "Epoch: 19,  Batch number: 0,  Loss: 0.22826535999774933\n",
      "Epoch: 19,  Batch number: 100,  Loss: 0.2382076233625412\n",
      "Epoch: 19,  Batch number: 200,  Loss: 0.22429049015045166\n",
      "Epoch: 19,  Batch number: 300,  Loss: 0.23068583011627197\n",
      "Epoch: 19,  Batch number: 400,  Loss: 0.23555557429790497\n",
      "Epoch: 19,  Batch number: 500,  Loss: 0.18844199180603027\n",
      "Epoch: 19,  Batch number: 600,  Loss: 0.24982768297195435\n",
      "-------------------------------------------------------------------------------------\n",
      "Accuracy in test batch: 0.650390625\n",
      "-------------------------------------------------------------------------------------\n",
      "Epoch: 20\n",
      "Epoch: 20,  Batch number: 0,  Loss: 0.23995666205883026\n",
      "Epoch: 20,  Batch number: 100,  Loss: 0.260875403881073\n",
      "Epoch: 20,  Batch number: 200,  Loss: 0.23450297117233276\n",
      "Epoch: 20,  Batch number: 300,  Loss: 0.24005335569381714\n",
      "Epoch: 20,  Batch number: 400,  Loss: 0.24601945281028748\n",
      "Epoch: 20,  Batch number: 500,  Loss: 0.25194865465164185\n",
      "Epoch: 20,  Batch number: 600,  Loss: 0.2338833510875702\n",
      "-------------------------------------------------------------------------------------\n",
      "Accuracy in test batch: 0.650390625\n",
      "-------------------------------------------------------------------------------------\n",
      "Epoch: 21\n",
      "Epoch: 21,  Batch number: 0,  Loss: 0.20452572405338287\n",
      "Epoch: 21,  Batch number: 100,  Loss: 0.23761415481567383\n",
      "Epoch: 21,  Batch number: 200,  Loss: 0.22054310142993927\n",
      "Epoch: 21,  Batch number: 300,  Loss: 0.22687967121601105\n",
      "Epoch: 21,  Batch number: 400,  Loss: 0.23125046491622925\n",
      "Epoch: 21,  Batch number: 500,  Loss: 0.23720836639404297\n",
      "Epoch: 21,  Batch number: 600,  Loss: 0.21015004813671112\n",
      "-------------------------------------------------------------------------------------\n",
      "Accuracy in test batch: 0.65625\n",
      "-------------------------------------------------------------------------------------\n",
      "Epoch: 22\n",
      "Epoch: 22,  Batch number: 0,  Loss: 0.24420034885406494\n",
      "Epoch: 22,  Batch number: 100,  Loss: 0.21872426569461823\n",
      "Epoch: 22,  Batch number: 200,  Loss: 0.20816610753536224\n",
      "Epoch: 22,  Batch number: 300,  Loss: 0.2378954440355301\n",
      "Epoch: 22,  Batch number: 400,  Loss: 0.2279376983642578\n",
      "Epoch: 22,  Batch number: 500,  Loss: 0.255505234003067\n",
      "Epoch: 22,  Batch number: 600,  Loss: 0.1960756629705429\n",
      "-------------------------------------------------------------------------------------\n",
      "Accuracy in test batch: 0.6796875\n",
      "-------------------------------------------------------------------------------------\n",
      "Epoch: 23\n",
      "Epoch: 23,  Batch number: 0,  Loss: 0.24901431798934937\n",
      "Epoch: 23,  Batch number: 100,  Loss: 0.18609675765037537\n",
      "Epoch: 23,  Batch number: 200,  Loss: 0.2768692374229431\n",
      "Epoch: 23,  Batch number: 300,  Loss: 0.26672792434692383\n",
      "Epoch: 23,  Batch number: 400,  Loss: 0.25433480739593506\n",
      "Epoch: 23,  Batch number: 500,  Loss: 0.23421473801136017\n",
      "Epoch: 23,  Batch number: 600,  Loss: 0.2093839794397354\n",
      "-------------------------------------------------------------------------------------\n",
      "Accuracy in test batch: 0.65234375\n",
      "-------------------------------------------------------------------------------------\n",
      "Epoch: 24\n",
      "Epoch: 24,  Batch number: 0,  Loss: 0.21983356773853302\n",
      "Epoch: 24,  Batch number: 100,  Loss: 0.22316810488700867\n",
      "Epoch: 24,  Batch number: 200,  Loss: 0.23351611196994781\n",
      "Epoch: 24,  Batch number: 300,  Loss: 0.26907336711883545\n",
      "Epoch: 24,  Batch number: 400,  Loss: 0.22406457364559174\n",
      "Epoch: 24,  Batch number: 500,  Loss: 0.2214144915342331\n",
      "Epoch: 24,  Batch number: 600,  Loss: 0.2440594583749771\n",
      "-------------------------------------------------------------------------------------\n",
      "Accuracy in test batch: 0.62890625\n",
      "-------------------------------------------------------------------------------------\n",
      "Epoch: 25\n",
      "Epoch: 25,  Batch number: 0,  Loss: 0.2117825299501419\n",
      "Epoch: 25,  Batch number: 100,  Loss: 0.2314874231815338\n",
      "Epoch: 25,  Batch number: 200,  Loss: 0.22798007726669312\n",
      "Epoch: 25,  Batch number: 300,  Loss: 0.23772282898426056\n",
      "Epoch: 25,  Batch number: 400,  Loss: 0.2600886821746826\n",
      "Epoch: 25,  Batch number: 500,  Loss: 0.21117600798606873\n",
      "Epoch: 25,  Batch number: 600,  Loss: 0.2095717191696167\n",
      "-------------------------------------------------------------------------------------\n",
      "Accuracy in test batch: 0.5703125\n",
      "-------------------------------------------------------------------------------------\n",
      "Epoch: 26\n",
      "Epoch: 26,  Batch number: 0,  Loss: 0.2176590859889984\n",
      "Epoch: 26,  Batch number: 100,  Loss: 0.25713253021240234\n",
      "Epoch: 26,  Batch number: 200,  Loss: 0.23369605839252472\n",
      "Epoch: 26,  Batch number: 300,  Loss: 0.2281077653169632\n",
      "Epoch: 26,  Batch number: 400,  Loss: 0.24558982253074646\n",
      "Epoch: 26,  Batch number: 500,  Loss: 0.23350030183792114\n",
      "Epoch: 26,  Batch number: 600,  Loss: 0.2314932495355606\n",
      "-------------------------------------------------------------------------------------\n",
      "Accuracy in test batch: 0.59765625\n",
      "-------------------------------------------------------------------------------------\n",
      "Epoch: 27\n",
      "Epoch: 27,  Batch number: 0,  Loss: 0.2373616248369217\n",
      "Epoch: 27,  Batch number: 100,  Loss: 0.22348085045814514\n",
      "Epoch: 27,  Batch number: 200,  Loss: 0.2496427297592163\n",
      "Epoch: 27,  Batch number: 300,  Loss: 0.2690332233905792\n",
      "Epoch: 27,  Batch number: 400,  Loss: 0.21535634994506836\n",
      "Epoch: 27,  Batch number: 500,  Loss: 0.23621529340744019\n",
      "Epoch: 27,  Batch number: 600,  Loss: 0.19396375119686127\n",
      "-------------------------------------------------------------------------------------\n",
      "Accuracy in test batch: 0.60546875\n",
      "-------------------------------------------------------------------------------------\n",
      "Epoch: 28\n",
      "Epoch: 28,  Batch number: 0,  Loss: 0.28649455308914185\n",
      "Epoch: 28,  Batch number: 100,  Loss: 0.20997582376003265\n",
      "Epoch: 28,  Batch number: 200,  Loss: 0.254597932100296\n",
      "Epoch: 28,  Batch number: 300,  Loss: 0.19928789138793945\n",
      "Epoch: 28,  Batch number: 400,  Loss: 0.23757587373256683\n",
      "Epoch: 28,  Batch number: 500,  Loss: 0.20593087375164032\n",
      "Epoch: 28,  Batch number: 600,  Loss: 0.23857763409614563\n",
      "-------------------------------------------------------------------------------------\n",
      "Accuracy in test batch: 0.66015625\n",
      "-------------------------------------------------------------------------------------\n",
      "Epoch: 29\n",
      "Epoch: 29,  Batch number: 0,  Loss: 0.25091686844825745\n",
      "Epoch: 29,  Batch number: 100,  Loss: 0.21464253962039948\n",
      "Epoch: 29,  Batch number: 200,  Loss: 0.2379286289215088\n",
      "Epoch: 29,  Batch number: 300,  Loss: 0.23494330048561096\n",
      "Epoch: 29,  Batch number: 400,  Loss: 0.2577887773513794\n",
      "Epoch: 29,  Batch number: 500,  Loss: 0.24883165955543518\n",
      "Epoch: 29,  Batch number: 600,  Loss: 0.22729116678237915\n",
      "-------------------------------------------------------------------------------------\n",
      "Accuracy in test batch: 0.626953125\n",
      "-------------------------------------------------------------------------------------\n",
      "Epoch: 30\n",
      "Epoch: 30,  Batch number: 0,  Loss: 0.24215318262577057\n",
      "Epoch: 30,  Batch number: 100,  Loss: 0.22972160577774048\n",
      "Epoch: 30,  Batch number: 200,  Loss: 0.22361667454242706\n",
      "Epoch: 30,  Batch number: 300,  Loss: 0.22205723822116852\n",
      "Epoch: 30,  Batch number: 400,  Loss: 0.24271704256534576\n",
      "Epoch: 30,  Batch number: 500,  Loss: 0.23636505007743835\n",
      "Epoch: 30,  Batch number: 600,  Loss: 0.2209818959236145\n",
      "-------------------------------------------------------------------------------------\n",
      "Accuracy in test batch: 0.64453125\n",
      "-------------------------------------------------------------------------------------\n",
      "Epoch: 31\n",
      "Epoch: 31,  Batch number: 0,  Loss: 0.2520012855529785\n",
      "Epoch: 31,  Batch number: 100,  Loss: 0.20994886755943298\n",
      "Epoch: 31,  Batch number: 200,  Loss: 0.22536106407642365\n",
      "Epoch: 31,  Batch number: 300,  Loss: 0.2710168957710266\n",
      "Epoch: 31,  Batch number: 400,  Loss: 0.2042638212442398\n",
      "Epoch: 31,  Batch number: 500,  Loss: 0.23437729477882385\n",
      "Epoch: 31,  Batch number: 600,  Loss: 0.26019904017448425\n",
      "-------------------------------------------------------------------------------------\n",
      "Accuracy in test batch: 0.671875\n",
      "-------------------------------------------------------------------------------------\n",
      "Epoch: 32\n",
      "Epoch: 32,  Batch number: 0,  Loss: 0.2500152289867401\n",
      "Epoch: 32,  Batch number: 100,  Loss: 0.27168962359428406\n",
      "Epoch: 32,  Batch number: 200,  Loss: 0.22778254747390747\n",
      "Epoch: 32,  Batch number: 300,  Loss: 0.22633406519889832\n",
      "Epoch: 32,  Batch number: 400,  Loss: 0.2188226282596588\n",
      "Epoch: 32,  Batch number: 500,  Loss: 0.2163594663143158\n",
      "Epoch: 32,  Batch number: 600,  Loss: 0.24489496648311615\n",
      "-------------------------------------------------------------------------------------\n",
      "Accuracy in test batch: 0.63671875\n",
      "-------------------------------------------------------------------------------------\n",
      "Epoch: 33\n",
      "Epoch: 33,  Batch number: 0,  Loss: 0.2012433260679245\n",
      "Epoch: 33,  Batch number: 100,  Loss: 0.2286192923784256\n",
      "Epoch: 33,  Batch number: 200,  Loss: 0.22018510103225708\n",
      "Epoch: 33,  Batch number: 300,  Loss: 0.21116575598716736\n",
      "Epoch: 33,  Batch number: 400,  Loss: 0.21613968908786774\n",
      "Epoch: 33,  Batch number: 500,  Loss: 0.26866859197616577\n",
      "Epoch: 33,  Batch number: 600,  Loss: 0.23432645201683044\n",
      "-------------------------------------------------------------------------------------\n",
      "Accuracy in test batch: 0.701171875\n",
      "-------------------------------------------------------------------------------------\n",
      "Epoch: 34\n",
      "Epoch: 34,  Batch number: 0,  Loss: 0.24499687552452087\n",
      "Epoch: 34,  Batch number: 100,  Loss: 0.2552710175514221\n",
      "Epoch: 34,  Batch number: 200,  Loss: 0.23829875886440277\n",
      "Epoch: 34,  Batch number: 300,  Loss: 0.253451406955719\n",
      "Epoch: 34,  Batch number: 400,  Loss: 0.22952702641487122\n",
      "Epoch: 34,  Batch number: 500,  Loss: 0.21430328488349915\n",
      "Epoch: 34,  Batch number: 600,  Loss: 0.2616601586341858\n",
      "-------------------------------------------------------------------------------------\n",
      "Accuracy in test batch: 0.64453125\n",
      "-------------------------------------------------------------------------------------\n",
      "Epoch: 35\n",
      "Epoch: 35,  Batch number: 0,  Loss: 0.21810396015644073\n",
      "Epoch: 35,  Batch number: 100,  Loss: 0.20299306511878967\n",
      "Epoch: 35,  Batch number: 200,  Loss: 0.2188989669084549\n",
      "Epoch: 35,  Batch number: 300,  Loss: 0.21321538090705872\n",
      "Epoch: 35,  Batch number: 400,  Loss: 0.24008427560329437\n",
      "Epoch: 35,  Batch number: 500,  Loss: 0.2227732539176941\n",
      "Epoch: 35,  Batch number: 600,  Loss: 0.23236426711082458\n",
      "-------------------------------------------------------------------------------------\n",
      "Accuracy in test batch: 0.6484375\n",
      "-------------------------------------------------------------------------------------\n",
      "Epoch: 36\n",
      "Epoch: 36,  Batch number: 0,  Loss: 0.22872446477413177\n",
      "Epoch: 36,  Batch number: 100,  Loss: 0.20681723952293396\n",
      "Epoch: 36,  Batch number: 200,  Loss: 0.23627278208732605\n",
      "Epoch: 36,  Batch number: 300,  Loss: 0.22156721353530884\n",
      "Epoch: 36,  Batch number: 400,  Loss: 0.2070801556110382\n",
      "Epoch: 36,  Batch number: 500,  Loss: 0.20093122124671936\n",
      "Epoch: 36,  Batch number: 600,  Loss: 0.19708152115345\n",
      "-------------------------------------------------------------------------------------\n",
      "Accuracy in test batch: 0.62109375\n",
      "-------------------------------------------------------------------------------------\n",
      "Epoch: 37\n",
      "Epoch: 37,  Batch number: 0,  Loss: 0.19981880486011505\n",
      "Epoch: 37,  Batch number: 100,  Loss: 0.26319995522499084\n",
      "Epoch: 37,  Batch number: 200,  Loss: 0.23522217571735382\n",
      "Epoch: 37,  Batch number: 300,  Loss: 0.2330443263053894\n",
      "Epoch: 37,  Batch number: 400,  Loss: 0.22635941207408905\n",
      "Epoch: 37,  Batch number: 500,  Loss: 0.2168383002281189\n",
      "Epoch: 37,  Batch number: 600,  Loss: 0.2215343862771988\n",
      "-------------------------------------------------------------------------------------\n",
      "Accuracy in test batch: 0.6171875\n",
      "-------------------------------------------------------------------------------------\n",
      "Epoch: 38\n",
      "Epoch: 38,  Batch number: 0,  Loss: 0.2072056233882904\n",
      "Epoch: 38,  Batch number: 100,  Loss: 0.19385752081871033\n",
      "Epoch: 38,  Batch number: 200,  Loss: 0.20746459066867828\n",
      "Epoch: 38,  Batch number: 300,  Loss: 0.23028478026390076\n",
      "Epoch: 38,  Batch number: 400,  Loss: 0.21322280168533325\n",
      "Epoch: 38,  Batch number: 500,  Loss: 0.21120476722717285\n",
      "Epoch: 38,  Batch number: 600,  Loss: 0.23791173100471497\n",
      "-------------------------------------------------------------------------------------\n",
      "Accuracy in test batch: 0.662109375\n",
      "-------------------------------------------------------------------------------------\n",
      "Epoch: 39\n",
      "Epoch: 39,  Batch number: 0,  Loss: 0.21004340052604675\n",
      "Epoch: 39,  Batch number: 100,  Loss: 0.22382469475269318\n",
      "Epoch: 39,  Batch number: 200,  Loss: 0.23215988278388977\n",
      "Epoch: 39,  Batch number: 300,  Loss: 0.23046770691871643\n",
      "Epoch: 39,  Batch number: 400,  Loss: 0.2216375172138214\n",
      "Epoch: 39,  Batch number: 500,  Loss: 0.21952377259731293\n",
      "Epoch: 39,  Batch number: 600,  Loss: 0.23039822280406952\n",
      "-------------------------------------------------------------------------------------\n",
      "Accuracy in test batch: 0.6171875\n",
      "-------------------------------------------------------------------------------------\n",
      "Epoch: 40\n",
      "Epoch: 40,  Batch number: 0,  Loss: 0.28305986523628235\n",
      "Epoch: 40,  Batch number: 100,  Loss: 0.21506160497665405\n",
      "Epoch: 40,  Batch number: 200,  Loss: 0.2392694652080536\n",
      "Epoch: 40,  Batch number: 300,  Loss: 0.23855896294116974\n",
      "Epoch: 40,  Batch number: 400,  Loss: 0.24559515714645386\n",
      "Epoch: 40,  Batch number: 500,  Loss: 0.23905828595161438\n",
      "Epoch: 40,  Batch number: 600,  Loss: 0.20259025692939758\n",
      "-------------------------------------------------------------------------------------\n",
      "Accuracy in test batch: 0.650390625\n",
      "-------------------------------------------------------------------------------------\n",
      "Epoch: 41\n",
      "Epoch: 41,  Batch number: 0,  Loss: 0.24854473769664764\n",
      "Epoch: 41,  Batch number: 100,  Loss: 0.21202290058135986\n",
      "Epoch: 41,  Batch number: 200,  Loss: 0.20920133590698242\n",
      "Epoch: 41,  Batch number: 300,  Loss: 0.23076237738132477\n",
      "Epoch: 41,  Batch number: 400,  Loss: 0.21698568761348724\n",
      "Epoch: 41,  Batch number: 500,  Loss: 0.24544136226177216\n",
      "Epoch: 41,  Batch number: 600,  Loss: 0.20998957753181458\n",
      "-------------------------------------------------------------------------------------\n",
      "Accuracy in test batch: 0.587890625\n",
      "-------------------------------------------------------------------------------------\n",
      "Epoch: 42\n",
      "Epoch: 42,  Batch number: 0,  Loss: 0.21156278252601624\n",
      "Epoch: 42,  Batch number: 100,  Loss: 0.22794881463050842\n",
      "Epoch: 42,  Batch number: 200,  Loss: 0.19954143464565277\n",
      "Epoch: 42,  Batch number: 300,  Loss: 0.2680078148841858\n",
      "Epoch: 42,  Batch number: 400,  Loss: 0.22238494455814362\n",
      "Epoch: 42,  Batch number: 500,  Loss: 0.24502180516719818\n",
      "Epoch: 42,  Batch number: 600,  Loss: 0.22961416840553284\n",
      "-------------------------------------------------------------------------------------\n",
      "Accuracy in test batch: 0.623046875\n",
      "-------------------------------------------------------------------------------------\n",
      "Epoch: 43\n",
      "Epoch: 43,  Batch number: 0,  Loss: 0.21287967264652252\n",
      "Epoch: 43,  Batch number: 100,  Loss: 0.21511879563331604\n",
      "Epoch: 43,  Batch number: 200,  Loss: 0.22968655824661255\n",
      "Epoch: 43,  Batch number: 300,  Loss: 0.19446460902690887\n",
      "Epoch: 43,  Batch number: 400,  Loss: 0.24067655205726624\n",
      "Epoch: 43,  Batch number: 500,  Loss: 0.22888603806495667\n",
      "Epoch: 43,  Batch number: 600,  Loss: 0.21362245082855225\n",
      "-------------------------------------------------------------------------------------\n",
      "Accuracy in test batch: 0.60546875\n",
      "-------------------------------------------------------------------------------------\n",
      "Epoch: 44\n",
      "Epoch: 44,  Batch number: 0,  Loss: 0.21929170191287994\n",
      "Epoch: 44,  Batch number: 100,  Loss: 0.22723524272441864\n",
      "Epoch: 44,  Batch number: 200,  Loss: 0.22889021039009094\n",
      "Epoch: 44,  Batch number: 300,  Loss: 0.22590674459934235\n",
      "Epoch: 44,  Batch number: 400,  Loss: 0.18640607595443726\n",
      "Epoch: 44,  Batch number: 500,  Loss: 0.21336892247200012\n",
      "Epoch: 44,  Batch number: 600,  Loss: 0.24040332436561584\n",
      "-------------------------------------------------------------------------------------\n",
      "Accuracy in test batch: 0.654296875\n",
      "-------------------------------------------------------------------------------------\n",
      "Epoch: 45\n",
      "Epoch: 45,  Batch number: 0,  Loss: 0.19915270805358887\n",
      "Epoch: 45,  Batch number: 100,  Loss: 0.20214515924453735\n",
      "Epoch: 45,  Batch number: 200,  Loss: 0.2116316854953766\n",
      "Epoch: 45,  Batch number: 300,  Loss: 0.2585332989692688\n",
      "Epoch: 45,  Batch number: 400,  Loss: 0.21357223391532898\n",
      "Epoch: 45,  Batch number: 500,  Loss: 0.24315929412841797\n",
      "Epoch: 45,  Batch number: 600,  Loss: 0.23038703203201294\n",
      "-------------------------------------------------------------------------------------\n",
      "Accuracy in test batch: 0.654296875\n",
      "-------------------------------------------------------------------------------------\n",
      "Epoch: 46\n",
      "Epoch: 46,  Batch number: 0,  Loss: 0.26512831449508667\n",
      "Epoch: 46,  Batch number: 100,  Loss: 0.21127848327159882\n",
      "Epoch: 46,  Batch number: 200,  Loss: 0.24414722621440887\n",
      "Epoch: 46,  Batch number: 300,  Loss: 0.2158864587545395\n",
      "Epoch: 46,  Batch number: 400,  Loss: 0.19407057762145996\n",
      "Epoch: 46,  Batch number: 500,  Loss: 0.22550815343856812\n",
      "Epoch: 46,  Batch number: 600,  Loss: 0.1714702695608139\n",
      "-------------------------------------------------------------------------------------\n",
      "Accuracy in test batch: 0.6875\n",
      "-------------------------------------------------------------------------------------\n",
      "Epoch: 47\n",
      "Epoch: 47,  Batch number: 0,  Loss: 0.2312920093536377\n",
      "Epoch: 47,  Batch number: 100,  Loss: 0.1984512358903885\n",
      "Epoch: 47,  Batch number: 200,  Loss: 0.21040049195289612\n",
      "Epoch: 47,  Batch number: 300,  Loss: 0.21374747157096863\n",
      "Epoch: 47,  Batch number: 400,  Loss: 0.22893355786800385\n",
      "Epoch: 47,  Batch number: 500,  Loss: 0.22366851568222046\n",
      "Epoch: 47,  Batch number: 600,  Loss: 0.24680215120315552\n",
      "-------------------------------------------------------------------------------------\n",
      "Accuracy in test batch: 0.685546875\n",
      "-------------------------------------------------------------------------------------\n",
      "Epoch: 48\n",
      "Epoch: 48,  Batch number: 0,  Loss: 0.2401343584060669\n",
      "Epoch: 48,  Batch number: 100,  Loss: 0.2345132678747177\n",
      "Epoch: 48,  Batch number: 200,  Loss: 0.21989023685455322\n",
      "Epoch: 48,  Batch number: 300,  Loss: 0.2173207402229309\n",
      "Epoch: 48,  Batch number: 400,  Loss: 0.22410042583942413\n",
      "Epoch: 48,  Batch number: 500,  Loss: 0.20638257265090942\n",
      "Epoch: 48,  Batch number: 600,  Loss: 0.19314193725585938\n",
      "-------------------------------------------------------------------------------------\n",
      "Accuracy in test batch: 0.65234375\n",
      "-------------------------------------------------------------------------------------\n",
      "Epoch: 49\n",
      "Epoch: 49,  Batch number: 0,  Loss: 0.19665981829166412\n",
      "Epoch: 49,  Batch number: 100,  Loss: 0.21539485454559326\n",
      "Epoch: 49,  Batch number: 200,  Loss: 0.18418356776237488\n",
      "Epoch: 49,  Batch number: 300,  Loss: 0.2182287573814392\n",
      "Epoch: 49,  Batch number: 400,  Loss: 0.2084508240222931\n",
      "Epoch: 49,  Batch number: 500,  Loss: 0.20910294353961945\n",
      "Epoch: 49,  Batch number: 600,  Loss: 0.23360209167003632\n",
      "-------------------------------------------------------------------------------------\n",
      "Accuracy in test batch: 0.62109375\n",
      "::: ...Fin del entrenamiento :::\n"
     ]
    }
   ],
   "source": [
    "# Entrenamos 20 epochs\n",
    "losses, accuracies = train(dataloader_train, modelo, 50, dataloader_test)"
   ]
  },
  {
   "cell_type": "code",
   "execution_count": 78,
   "metadata": {},
   "outputs": [],
   "source": [
    "# Guardamos\n",
    "torch.save(modelo.state_dict(), \"modelo_1_80k_50ep.pt\")"
   ]
  },
  {
   "cell_type": "code",
   "execution_count": 86,
   "metadata": {
    "tags": []
   },
   "outputs": [
    {
     "name": "stdout",
     "output_type": "stream",
     "text": [
      "Accuracy batch 0: 0.630859375\n",
      "Accuracy batch 1: 0.625\n",
      "Accuracy batch 2: 0.640625\n",
      "Accuracy batch 3: 0.5859375\n",
      "Accuracy batch 4: 0.697265625\n"
     ]
    }
   ],
   "source": [
    "for i in range(5):\n",
    "    pairId_batch, question1_batch, question2_batch, isDuplicate_batch = next(iter(dataloader_test))\n",
    "    predicted_similarity = modelo(question1_batch, question2_batch)\n",
    "    predicted_similarity = predicted_similarity.detach()\n",
    "    predicted_similarity2 = torch.where(predicted_similarity > 0.65, 1, 0)\n",
    "    acc = accuracy_score(isDuplicate_batch, predicted_similarity2)\n",
    "    print(f\"Accuracy batch {i}: {acc}\")"
   ]
  },
  {
   "cell_type": "code",
   "execution_count": 88,
   "metadata": {
    "tags": []
   },
   "outputs": [
    {
     "data": {
      "image/png": "[encoded data removed]",
      "text/plain": [
       "<Figure size 640x480 with 1 Axes>"
      ]
     },
     "metadata": {},
     "output_type": "display_data"
    }
   ],
   "source": [
    "import matplotlib.pyplot as plt\n",
    "\n",
    "plt.figure()\n",
    "plt.plot(losses)\n",
    "plt.xlabel(\"Batch (x50)\")\n",
    "plt.ylabel(\"Loss\")\n",
    "plt.title(\"Configuración 1 con 80k: Pérdida a lo largo de 50 epochs de entrenamiento\")\n",
    "plt.savefig('plot_config1_80k_50eps.png')\n",
    "plt.show()"
   ]
  },
  {
   "cell_type": "code",
   "execution_count": 87,
   "metadata": {},
   "outputs": [
    {
     "data": {
      "image/png": "[encoded data removed]",
      "text/plain": [
       "<Figure size 640x480 with 1 Axes>"
      ]
     },
     "metadata": {},
     "output_type": "display_data"
    }
   ],
   "source": [
    "import matplotlib.pyplot as plt\n",
    "\n",
    "plt.figure()\n",
    "plt.plot(accuracies)\n",
    "plt.xlabel(\"Batch (x50)\")\n",
    "plt.ylabel(\"Accuracy\")\n",
    "plt.title(\"Configuración 1 con 80k: Accuracy a lo largo de 50 epochs de entrenamiento\")\n",
    "plt.savefig('plot_config1_accuracy_80k_50eps')\n",
    "plt.show()"
   ]
  },
  {
   "cell_type": "markdown",
   "metadata": {},
   "source": [
    "## Resultados con diferentes configuraciones:\n",
    "\n",
    "### Configuración 1 con 80k ejemplares:\n",
    "    - aprox. 80k ejemplares para entrenamiento\n",
    "    - adam optimizer\n",
    "    - learning rate: 0.0001\n",
    "    - batch size: 64\n",
    "    - 4 capas de encoders (en cada lado de la red):\n",
    "        - 5 cabezas de atención\n",
    "        - hidden size = 32 en la capa feed forward\n",
    "        - dropout 0.1\n",
    "\n",
    "La red neuronal da como resultado, para cada ejemplar, un número entre 0 y 1, representando la similitud entre las dos preguntas. Entre más grande sea este número más similares son.\n",
    "Para obtener resultados binarios convertimos en 1 todos los resultados mayores a **0.65**, y el resto en 0.\n",
    "Después del entrenamiento, con la configuración 1, y esta forma de interpretar el resultado, se obtiene los siguientes valores de accuracy para 4 batches random de tamaño **1024** del conjunto de prueba:\n",
    "- Accuracy batch 1:    0.6728515625\n",
    "- Accuracy batch 2:    0.65625\n",
    "- Accuracy batch 3:    0.662109375\n",
    "- Accuracy batch 4:    0.6611328125\n",
    "\n",
    "### Configuración 2 con 240k ejemplares:\n",
    "    - aprox. 240k ejemplares para entrenamiento\n",
    "    - adam optimizer\n",
    "    - learning rate: 0.00005\n",
    "    - batch size: 64\n",
    "    - 6 capas de encoders (en cada lado de la red):\n",
    "        - 6 cabezas de atención\n",
    "        - hidden size = 384 en la capa feed forward\n",
    "        - dropout 0.1\n",
    "\n",
    "Después de **un epoch** (porque en esta configuración cada epoch tardaba lo mismo que 10 epochs en la configuración 1) se obtiene los siguientes valores de accuracy para 4 batches random de tamaño **512** del conjunto de prueba:\n",
    "- Accuracy batch 1:    0.6171875\n",
    "- Accuracy batch 2:    0.6015625\n",
    "- Accuracy batch 3:    0.611328125\n",
    "- Accuracy batch 4:    0.6015625\n",
    "\n",
    "Después de **dos epoch**:\n",
    "- Accuracy batch 1:    0.576171875\n",
    "- Accuracy batch 2:    0.61328125\n",
    "- Accuracy batch 3:    0.634765625\n",
    "- Accuracy batch 4:    0.62109375\n",
    "\n",
    "### Configuración 1 con 240k ejemplares:\n",
    "    - aprox. 240k ejemplares para entrenamiento\n",
    "    - adam optimizer\n",
    "    - learning rate: 0.0001\n",
    "    - batch size: 64\n",
    "    - 4 capas de encoders (en cada lado de la red):\n",
    "        - 5 cabezas de atención\n",
    "        - hidden size = 32 en la capa feed forward\n",
    "        - dropout 0.1\n",
    "\n",
    "Después de **un epoch** (porque en esta configuración cada epoch tardaba lo mismo que 10 epochs en la configuración 1) se obtiene los siguientes valores de accuracy para 4 batches random de tamaño **512** del conjunto de prueba:\n",
    "- Accuracy batch 1:    0.59765625\n",
    "- Accuracy batch 2:    0.609375\n",
    "- Accuracy batch 3:    0.62890625\n",
    "- Accuracy batch 4:    0.615234375\n",
    "\n",
    "### Configuración 1 con 80k ejemplares y 50 epochs:\n",
    "    - batch size de 128.\n",
    "Después de 50 epochs se toma la accuracy de 5 ejemplos random del conjunto de prueba:\n",
    "- Accuracy batch 0: 0.630859375\n",
    "- Accuracy batch 1: 0.625\n",
    "- Accuracy batch 2: 0.640625\n",
    "- Accuracy batch 3: 0.5859375\n",
    "- Accuracy batch 4: 0.697265625\n"
   ]
  }
 ],
 "metadata": {
  "kernelspec": {
   "display_name": "Python 3 (ipykernel)",
   "language": "python",
   "name": "python3"
  },
  "language_info": {
   "codemirror_mode": {
    "name": "ipython",
    "version": 3
   },
   "file_extension": ".py",
   "mimetype": "text/x-python",
   "name": "python",
   "nbconvert_exporter": "python",
   "pygments_lexer": "ipython3",
   "version": "3.10.11"
  },
  "toc": {
   "base_numbering": 1,
   "nav_menu": {},
   "number_sections": true,
   "sideBar": true,
   "skip_h1_title": false,
   "title_cell": "Table of Contents",
   "title_sidebar": "Contents",
   "toc_cell": false,
   "toc_position": {},
   "toc_section_display": true,
   "toc_window_display": false
  }
 },
 "nbformat": 4,
 "nbformat_minor": 4
}
